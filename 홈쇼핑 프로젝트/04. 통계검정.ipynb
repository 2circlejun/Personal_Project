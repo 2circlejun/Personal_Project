{
 "cells": [
  {
   "attachments": {},
   "cell_type": "markdown",
   "metadata": {},
   "source": [
    "# 통계 검정\n",
    "- 의류 식품별 각 집단이 정규성을 만족하지 않아, 각 집단 간 유의미한 차이가 있는지 확인하고자 ,kruskal-wallis 검정을 시행하였습니다.\n"
   ]
  },
  {
   "cell_type": "code",
   "execution_count": null,
   "metadata": {},
   "outputs": [],
   "source": [
    "import statsmodels.api as sm\n",
    "from scipy.stats import kruskal\n",
    "\n",
    "from statsmodels.formula.api import ols"
   ]
  },
  {
   "cell_type": "code",
   "execution_count": null,
   "metadata": {},
   "outputs": [
    {
     "data": {
      "text/plain": [
       "Index(['Unnamed: 0', '방송Code', '소요분', '가중분', '방송구분', '프로그램명', '상품ID', '상품명',\n",
       "       '매입과세구분', '상품목표취급금액', '상품목표주문금액', '상품목표공헌이익금액', '판매단가', '수수료율',\n",
       "       '상품주문수량', '상품주문금액', '상품취소수량', '상품취소금액', '상품순주문수량', '상품순주문금액',\n",
       "       '상품예상취급금액', 'ARS금액', '매입형태', '배송방식', '상품방송순번', '방송시작시간', '방송종료시간', 'PD',\n",
       "       'SH', 'TD', 'MD담당자명', '부서코드', '부서명', '협력사ID', '협력사명', '브랜드ID', '브랜드명',\n",
       "       '대분류', '중분류', '소분류', '세분류', '카테고리', '요일', '분기', '주', '월', '시작시간', '연도',\n",
       "       '계절', '매출액', '순매출액', '목표달성여부', '시간대비효율', '목표달성비율', '의뢰ID'],\n",
       "      dtype='object')"
      ]
     },
     "metadata": {},
     "output_type": "display_data"
    }
   ],
   "source": [
    "df = pd.read_csv('/Users/2circlejun/Desktop/A2_홈쇼핑/DF 리스트/df_fin.csv')\n",
    "df.columns\n",
    "\n",
    "\n",
    "df['대분류']"
   ]
  },
  {
   "attachments": {},
   "cell_type": "markdown",
   "metadata": {},
   "source": [
    "- 대분류 별 (식품, 의류, 등등)"
   ]
  },
  {
   "cell_type": "code",
   "execution_count": null,
   "metadata": {},
   "outputs": [],
   "source": [
    "dfc = df[df['대분류'] == '식품']"
   ]
  },
  {
   "cell_type": "code",
   "execution_count": null,
   "metadata": {},
   "outputs": [
    {
     "data": {
      "text/plain": [
       "KruskalResult(statistic=32.2614168213252, pvalue=4.609877168733315e-07)"
      ]
     },
     "metadata": {},
     "output_type": "display_data"
    }
   ],
   "source": [
    "kruskal(dfc.loc[dfc['계절'] == '봄', '순매출액'],        \n",
    "        dfc.loc[dfc['계절'] == '여름', '순매출액'],\n",
    "        dfc.loc[dfc['계절'] == '가을', '순매출액'],\n",
    "        dfc.loc[dfc['계절'] == '겨울', '순매출액'])"
   ]
  },
  {
   "cell_type": "code",
   "execution_count": null,
   "metadata": {},
   "outputs": [
    {
     "data": {
      "text/plain": [
       "KruskalResult(statistic=59.484989032272864, pvalue=1.1555189165212268e-08)"
      ]
     },
     "metadata": {},
     "output_type": "display_data"
    }
   ],
   "source": [
    "kruskal(dfc.loc[dfc['월'] == 1, '순매출액'],        \n",
    "        dfc.loc[dfc['월'] == 2, '순매출액'],\n",
    "        dfc.loc[dfc['월'] == 3, '순매출액'],\n",
    "        dfc.loc[dfc['월'] == 4, '순매출액'],\n",
    "        dfc.loc[dfc['월'] == 5, '순매출액'],\n",
    "        dfc.loc[dfc['월'] == 6, '순매출액'],\n",
    "        dfc.loc[dfc['월'] == 7, '순매출액'],\n",
    "        dfc.loc[dfc['월'] == 8, '순매출액'],\n",
    "        dfc.loc[dfc['월'] == 9, '순매출액'],\n",
    "        dfc.loc[dfc['월'] == 10, '순매출액'],\n",
    "        dfc.loc[dfc['월'] == 11, '순매출액'],\n",
    "        dfc.loc[dfc['월'] == 12, '순매출액'])\n"
   ]
  },
  {
   "cell_type": "code",
   "execution_count": null,
   "metadata": {},
   "outputs": [
    {
     "data": {
      "text/plain": [
       "Index(['방송Code', '소요분', '가중분', '방송구분', '프로그램명', '상품ID', '상품명', '매입과세구분',\n",
       "       '상품목표취급금액', '상품목표주문금액', '상품목표공헌이익금액', '판매단가', '수수료율', '상품주문수량',\n",
       "       '상품주문금액', '상품취소수량', '상품취소금액', '상품순주문수량', '상품순주문금액', '상품예상취급금액', 'ARS금액',\n",
       "       '매입형태', '배송방식', '상품방송순번', '방송시작시간', '방송종료시간', 'PD', 'SH', 'TD',\n",
       "       'MD담당자명', '부서코드', '부서명', '협력사ID', '협력사명', '브랜드ID', '브랜드명', '대분류', '중분류',\n",
       "       '소분류', '세분류', '카테고리', '요일', '분기', '주', '월', '시작시간', '연도', '계절', '매출액',\n",
       "       '순매출액', '목표달성여부', '시간대비효율', '목표달성비율', '의뢰ID'],\n",
       "      dtype='object')"
      ]
     },
     "metadata": {},
     "output_type": "display_data"
    }
   ],
   "source": [
    "df.columns"
   ]
  },
  {
   "cell_type": "code",
   "execution_count": null,
   "metadata": {},
   "outputs": [
    {
     "data": {
      "text/plain": [
       "KruskalResult(statistic=91.63659006461775, pvalue=1.3847347018303322e-17)"
      ]
     },
     "metadata": {},
     "output_type": "display_data"
    }
   ],
   "source": [
    "kruskal(dfc.loc[dfc['요일'] == '월요일', '순매출액'],\n",
    "        dfc.loc[dfc['요일'] == '화요일', '순매출액'],\n",
    "        dfc.loc[dfc['요일'] == '수요일', '순매출액'],\n",
    "        dfc.loc[dfc['요일'] == '목요일', '순매출액'],\n",
    "        dfc.loc[dfc['요일'] == '금요일', '순매출액'],\n",
    "        dfc.loc[dfc['요일'] == '토요일', '순매출액'],\n",
    "        dfc.loc[dfc['요일'] == '일요일', '순매출액'],\n",
    "        )"
   ]
  },
  {
   "cell_type": "code",
   "execution_count": null,
   "metadata": {},
   "outputs": [
    {
     "data": {
      "text/plain": [
       "KruskalResult(statistic=2765.147304319037, pvalue=0.0)"
      ]
     },
     "metadata": {},
     "output_type": "display_data"
    }
   ],
   "source": [
    "kruskal(dfc.loc[dfc['시작시간'] == '심야', '순매출액'],\n",
    "        dfc.loc[dfc['시작시간'] == '새벽', '순매출액'],\n",
    "        dfc.loc[dfc['시작시간'] == '아침', '순매출액'],\n",
    "        dfc.loc[dfc['시작시간'] == '오전', '순매출액'],\n",
    "        dfc.loc[dfc['시작시간'] == '점심', '순매출액'],\n",
    "        dfc.loc[dfc['시작시간'] == '오후', '순매출액'],\n",
    "        dfc.loc[dfc['시작시간'] == '저녁', '순매출액'],\n",
    "        dfc.loc[dfc['시작시간'] == '야간', '순매출액'])"
   ]
  }
 ],
 "metadata": {
  "language_info": {
   "name": "python"
  },
  "orig_nbformat": 4
 },
 "nbformat": 4,
 "nbformat_minor": 2
}
