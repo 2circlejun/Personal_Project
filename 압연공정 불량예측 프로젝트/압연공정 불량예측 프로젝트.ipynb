{
 "cells": [
  {
   "attachments": {},
   "cell_type": "markdown",
   "metadata": {},
   "source": [
    "# 종합실습 2 - 압연공정 불량 예측 및 개선기회 도출"
   ]
  },
  {
   "attachments": {},
   "cell_type": "markdown",
   "metadata": {},
   "source": [
    "### 필요 패키지 호출"
   ]
  },
  {
   "cell_type": "code",
   "execution_count": 199,
   "metadata": {},
   "outputs": [],
   "source": [
    "import pandas as pd\n",
    "import numpy as np\n",
    "import matplotlib\n",
    "import matplotlib.pyplot as plt\n",
    "import seaborn as sns\n",
    "from statsmodels.api import add_constant\n",
    "from sklearn.svm import SVC \n",
    "from sklearn.model_selection import train_test_split\n",
    "from sklearn.preprocessing import StandardScaler\n",
    "from sklearn.model_selection import GridSearchCV\n",
    "from sklearn.tree import export_graphviz\n",
    "import graphviz\n",
    "from statsmodels.api import Logit\n",
    "from sklearn.metrics import accuracy_score\n",
    "from sklearn.tree import DecisionTreeClassifier\n",
    "from sklearn.ensemble import RandomForestClassifier\n",
    "from sklearn.ensemble import GradientBoostingClassifier\n",
    "from sklearn.metrics import confusion_matrix\n"
   ]
  },
  {
   "attachments": {},
   "cell_type": "markdown",
   "metadata": {},
   "source": [
    "- 폰트설정 및, 마이너스 기호 출력코드\n"
   ]
  },
  {
   "cell_type": "code",
   "execution_count": 187,
   "metadata": {},
   "outputs": [],
   "source": [
    "matplotlib.rc('font', family = 'AppleGothic')\n",
    "matplotlib.rc('axes', unicode_minus = False)"
   ]
  },
  {
   "cell_type": "code",
   "execution_count": 246,
   "metadata": {},
   "outputs": [
    {
     "data": {
      "text/html": [
       "<div>\n",
       "<style scoped>\n",
       "    .dataframe tbody tr th:only-of-type {\n",
       "        vertical-align: middle;\n",
       "    }\n",
       "\n",
       "    .dataframe tbody tr th {\n",
       "        vertical-align: top;\n",
       "    }\n",
       "\n",
       "    .dataframe thead th {\n",
       "        text-align: right;\n",
       "    }\n",
       "</style>\n",
       "<table border=\"1\" class=\"dataframe\">\n",
       "  <thead>\n",
       "    <tr style=\"text-align: right;\">\n",
       "      <th></th>\n",
       "      <th>plate_no</th>\n",
       "      <th>rolling_date</th>\n",
       "      <th>scale</th>\n",
       "      <th>spec_long</th>\n",
       "      <th>spec_country</th>\n",
       "      <th>steel_kind</th>\n",
       "      <th>pt_thick</th>\n",
       "      <th>pt_width</th>\n",
       "      <th>pt_length</th>\n",
       "      <th>hsb</th>\n",
       "      <th>...</th>\n",
       "      <th>fur_heat_temp</th>\n",
       "      <th>fur_heat_time</th>\n",
       "      <th>fur_soak_temp</th>\n",
       "      <th>fur_soak_time</th>\n",
       "      <th>fur_total_time</th>\n",
       "      <th>fur_ex_temp</th>\n",
       "      <th>rolling_method</th>\n",
       "      <th>rolling_temp</th>\n",
       "      <th>descaling_count</th>\n",
       "      <th>work_group</th>\n",
       "    </tr>\n",
       "  </thead>\n",
       "  <tbody>\n",
       "    <tr>\n",
       "      <th>0</th>\n",
       "      <td>PLT_1001</td>\n",
       "      <td>03JAN2023:07:07:53</td>\n",
       "      <td>양품</td>\n",
       "      <td>AB/EH32-TM</td>\n",
       "      <td>미국</td>\n",
       "      <td>T</td>\n",
       "      <td>32</td>\n",
       "      <td>3700</td>\n",
       "      <td>15100</td>\n",
       "      <td>적용</td>\n",
       "      <td>...</td>\n",
       "      <td>1144</td>\n",
       "      <td>116</td>\n",
       "      <td>1133</td>\n",
       "      <td>59</td>\n",
       "      <td>259</td>\n",
       "      <td>1133</td>\n",
       "      <td>TMCP(온도제어)</td>\n",
       "      <td>934</td>\n",
       "      <td>8</td>\n",
       "      <td>1조</td>\n",
       "    </tr>\n",
       "    <tr>\n",
       "      <th>1</th>\n",
       "      <td>PLT_1002</td>\n",
       "      <td>03JAN2023:07:21:22</td>\n",
       "      <td>양품</td>\n",
       "      <td>AB/EH32-TM</td>\n",
       "      <td>미국</td>\n",
       "      <td>T</td>\n",
       "      <td>32</td>\n",
       "      <td>3700</td>\n",
       "      <td>15100</td>\n",
       "      <td>적용</td>\n",
       "      <td>...</td>\n",
       "      <td>1144</td>\n",
       "      <td>122</td>\n",
       "      <td>1135</td>\n",
       "      <td>53</td>\n",
       "      <td>238</td>\n",
       "      <td>1135</td>\n",
       "      <td>TMCP(온도제어)</td>\n",
       "      <td>937</td>\n",
       "      <td>8</td>\n",
       "      <td>1조</td>\n",
       "    </tr>\n",
       "    <tr>\n",
       "      <th>2</th>\n",
       "      <td>PLT_1003</td>\n",
       "      <td>03JAN2023:07:31:15</td>\n",
       "      <td>양품</td>\n",
       "      <td>NV-E36-TM</td>\n",
       "      <td>영국</td>\n",
       "      <td>T</td>\n",
       "      <td>33</td>\n",
       "      <td>3600</td>\n",
       "      <td>19200</td>\n",
       "      <td>적용</td>\n",
       "      <td>...</td>\n",
       "      <td>1129</td>\n",
       "      <td>116</td>\n",
       "      <td>1121</td>\n",
       "      <td>55</td>\n",
       "      <td>258</td>\n",
       "      <td>1121</td>\n",
       "      <td>TMCP(온도제어)</td>\n",
       "      <td>889</td>\n",
       "      <td>8</td>\n",
       "      <td>1조</td>\n",
       "    </tr>\n",
       "    <tr>\n",
       "      <th>3</th>\n",
       "      <td>PLT_1004</td>\n",
       "      <td>03JAN2023:07:41:01</td>\n",
       "      <td>양품</td>\n",
       "      <td>NV-E36-TM</td>\n",
       "      <td>영국</td>\n",
       "      <td>T</td>\n",
       "      <td>33</td>\n",
       "      <td>3600</td>\n",
       "      <td>19200</td>\n",
       "      <td>적용</td>\n",
       "      <td>...</td>\n",
       "      <td>1152</td>\n",
       "      <td>125</td>\n",
       "      <td>1127</td>\n",
       "      <td>68</td>\n",
       "      <td>266</td>\n",
       "      <td>1127</td>\n",
       "      <td>TMCP(온도제어)</td>\n",
       "      <td>885</td>\n",
       "      <td>8</td>\n",
       "      <td>1조</td>\n",
       "    </tr>\n",
       "    <tr>\n",
       "      <th>4</th>\n",
       "      <td>PLT_1005</td>\n",
       "      <td>03JAN2023:07:52:40</td>\n",
       "      <td>양품</td>\n",
       "      <td>BV-EH36-TM</td>\n",
       "      <td>프랑스</td>\n",
       "      <td>T</td>\n",
       "      <td>38</td>\n",
       "      <td>3100</td>\n",
       "      <td>13300</td>\n",
       "      <td>적용</td>\n",
       "      <td>...</td>\n",
       "      <td>1140</td>\n",
       "      <td>134</td>\n",
       "      <td>1128</td>\n",
       "      <td>48</td>\n",
       "      <td>246</td>\n",
       "      <td>1128</td>\n",
       "      <td>TMCP(온도제어)</td>\n",
       "      <td>873</td>\n",
       "      <td>8</td>\n",
       "      <td>1조</td>\n",
       "    </tr>\n",
       "    <tr>\n",
       "      <th>...</th>\n",
       "      <td>...</td>\n",
       "      <td>...</td>\n",
       "      <td>...</td>\n",
       "      <td>...</td>\n",
       "      <td>...</td>\n",
       "      <td>...</td>\n",
       "      <td>...</td>\n",
       "      <td>...</td>\n",
       "      <td>...</td>\n",
       "      <td>...</td>\n",
       "      <td>...</td>\n",
       "      <td>...</td>\n",
       "      <td>...</td>\n",
       "      <td>...</td>\n",
       "      <td>...</td>\n",
       "      <td>...</td>\n",
       "      <td>...</td>\n",
       "      <td>...</td>\n",
       "      <td>...</td>\n",
       "      <td>...</td>\n",
       "      <td>...</td>\n",
       "    </tr>\n",
       "    <tr>\n",
       "      <th>995</th>\n",
       "      <td>PLT_1996</td>\n",
       "      <td>10JAN2023:05:32:25</td>\n",
       "      <td>양품</td>\n",
       "      <td>BV-A</td>\n",
       "      <td>프랑스</td>\n",
       "      <td>C</td>\n",
       "      <td>19</td>\n",
       "      <td>3400</td>\n",
       "      <td>41500</td>\n",
       "      <td>적용</td>\n",
       "      <td>...</td>\n",
       "      <td>1142</td>\n",
       "      <td>55</td>\n",
       "      <td>1151</td>\n",
       "      <td>86</td>\n",
       "      <td>203</td>\n",
       "      <td>1151</td>\n",
       "      <td>CR(제어압연)</td>\n",
       "      <td>948</td>\n",
       "      <td>10</td>\n",
       "      <td>4조</td>\n",
       "    </tr>\n",
       "    <tr>\n",
       "      <th>996</th>\n",
       "      <td>PLT_1997</td>\n",
       "      <td>10JAN2023:05:39:19</td>\n",
       "      <td>양품</td>\n",
       "      <td>LR-A</td>\n",
       "      <td>영국</td>\n",
       "      <td>C</td>\n",
       "      <td>19</td>\n",
       "      <td>3400</td>\n",
       "      <td>41500</td>\n",
       "      <td>적용</td>\n",
       "      <td>...</td>\n",
       "      <td>1142</td>\n",
       "      <td>55</td>\n",
       "      <td>1151</td>\n",
       "      <td>86</td>\n",
       "      <td>209</td>\n",
       "      <td>1151</td>\n",
       "      <td>CR(제어압연)</td>\n",
       "      <td>948</td>\n",
       "      <td>10</td>\n",
       "      <td>4조</td>\n",
       "    </tr>\n",
       "    <tr>\n",
       "      <th>997</th>\n",
       "      <td>PLT_1998</td>\n",
       "      <td>10JAN2023:05:52:41</td>\n",
       "      <td>양품</td>\n",
       "      <td>AB/AH32</td>\n",
       "      <td>미국</td>\n",
       "      <td>C</td>\n",
       "      <td>17</td>\n",
       "      <td>3400</td>\n",
       "      <td>43700</td>\n",
       "      <td>적용</td>\n",
       "      <td>...</td>\n",
       "      <td>1169</td>\n",
       "      <td>65</td>\n",
       "      <td>1163</td>\n",
       "      <td>77</td>\n",
       "      <td>227</td>\n",
       "      <td>1163</td>\n",
       "      <td>CR(제어압연)</td>\n",
       "      <td>948</td>\n",
       "      <td>10</td>\n",
       "      <td>4조</td>\n",
       "    </tr>\n",
       "    <tr>\n",
       "      <th>998</th>\n",
       "      <td>PLT_1999</td>\n",
       "      <td>10JAN2023:06:01:50</td>\n",
       "      <td>양품</td>\n",
       "      <td>NV-A32</td>\n",
       "      <td>영국</td>\n",
       "      <td>C</td>\n",
       "      <td>17</td>\n",
       "      <td>3400</td>\n",
       "      <td>43700</td>\n",
       "      <td>적용</td>\n",
       "      <td>...</td>\n",
       "      <td>1169</td>\n",
       "      <td>65</td>\n",
       "      <td>1163</td>\n",
       "      <td>77</td>\n",
       "      <td>204</td>\n",
       "      <td>1163</td>\n",
       "      <td>CR(제어압연)</td>\n",
       "      <td>948</td>\n",
       "      <td>10</td>\n",
       "      <td>4조</td>\n",
       "    </tr>\n",
       "    <tr>\n",
       "      <th>999</th>\n",
       "      <td>PLT_2000</td>\n",
       "      <td>10JAN2023:06:16:27</td>\n",
       "      <td>양품</td>\n",
       "      <td>GL-A32</td>\n",
       "      <td>독일</td>\n",
       "      <td>C</td>\n",
       "      <td>16</td>\n",
       "      <td>3400</td>\n",
       "      <td>54200</td>\n",
       "      <td>적용</td>\n",
       "      <td>...</td>\n",
       "      <td>1186</td>\n",
       "      <td>82</td>\n",
       "      <td>1169</td>\n",
       "      <td>45</td>\n",
       "      <td>208</td>\n",
       "      <td>1169</td>\n",
       "      <td>CR(제어압연)</td>\n",
       "      <td>957</td>\n",
       "      <td>10</td>\n",
       "      <td>4조</td>\n",
       "    </tr>\n",
       "  </tbody>\n",
       "</table>\n",
       "<p>1000 rows × 22 columns</p>\n",
       "</div>"
      ],
      "text/plain": [
       "     plate_no        rolling_date scale   spec_long spec_country steel_kind  \\\n",
       "0    PLT_1001  03JAN2023:07:07:53    양품  AB/EH32-TM           미국          T   \n",
       "1    PLT_1002  03JAN2023:07:21:22    양품  AB/EH32-TM           미국          T   \n",
       "2    PLT_1003  03JAN2023:07:31:15    양품   NV-E36-TM           영국          T   \n",
       "3    PLT_1004  03JAN2023:07:41:01    양품   NV-E36-TM           영국          T   \n",
       "4    PLT_1005  03JAN2023:07:52:40    양품  BV-EH36-TM          프랑스          T   \n",
       "..        ...                 ...   ...         ...          ...        ...   \n",
       "995  PLT_1996  10JAN2023:05:32:25    양품        BV-A          프랑스          C   \n",
       "996  PLT_1997  10JAN2023:05:39:19    양품        LR-A           영국          C   \n",
       "997  PLT_1998  10JAN2023:05:52:41    양품     AB/AH32           미국          C   \n",
       "998  PLT_1999  10JAN2023:06:01:50    양품      NV-A32           영국          C   \n",
       "999  PLT_2000  10JAN2023:06:16:27    양품      GL-A32           독일          C   \n",
       "\n",
       "     pt_thick  pt_width  pt_length hsb  ... fur_heat_temp fur_heat_time  \\\n",
       "0          32      3700      15100  적용  ...          1144           116   \n",
       "1          32      3700      15100  적용  ...          1144           122   \n",
       "2          33      3600      19200  적용  ...          1129           116   \n",
       "3          33      3600      19200  적용  ...          1152           125   \n",
       "4          38      3100      13300  적용  ...          1140           134   \n",
       "..        ...       ...        ...  ..  ...           ...           ...   \n",
       "995        19      3400      41500  적용  ...          1142            55   \n",
       "996        19      3400      41500  적용  ...          1142            55   \n",
       "997        17      3400      43700  적용  ...          1169            65   \n",
       "998        17      3400      43700  적용  ...          1169            65   \n",
       "999        16      3400      54200  적용  ...          1186            82   \n",
       "\n",
       "     fur_soak_temp  fur_soak_time  fur_total_time  fur_ex_temp  \\\n",
       "0             1133             59             259         1133   \n",
       "1             1135             53             238         1135   \n",
       "2             1121             55             258         1121   \n",
       "3             1127             68             266         1127   \n",
       "4             1128             48             246         1128   \n",
       "..             ...            ...             ...          ...   \n",
       "995           1151             86             203         1151   \n",
       "996           1151             86             209         1151   \n",
       "997           1163             77             227         1163   \n",
       "998           1163             77             204         1163   \n",
       "999           1169             45             208         1169   \n",
       "\n",
       "     rolling_method  rolling_temp descaling_count  work_group  \n",
       "0        TMCP(온도제어)           934               8          1조  \n",
       "1        TMCP(온도제어)           937               8          1조  \n",
       "2        TMCP(온도제어)           889               8          1조  \n",
       "3        TMCP(온도제어)           885               8          1조  \n",
       "4        TMCP(온도제어)           873               8          1조  \n",
       "..              ...           ...             ...         ...  \n",
       "995        CR(제어압연)           948              10          4조  \n",
       "996        CR(제어압연)           948              10          4조  \n",
       "997        CR(제어압연)           948              10          4조  \n",
       "998        CR(제어압연)           948              10          4조  \n",
       "999        CR(제어압연)           957              10          4조  \n",
       "\n",
       "[1000 rows x 22 columns]"
      ]
     },
     "execution_count": 246,
     "metadata": {},
     "output_type": "execute_result"
    }
   ],
   "source": [
    "df_raw = pd.read_csv(\"SCALE불량.csv\", encoding=\"euc-kr\")\n",
    "df_raw"
   ]
  },
  {
   "cell_type": "code",
   "execution_count": 189,
   "metadata": {},
   "outputs": [
    {
     "name": "stdout",
     "output_type": "stream",
     "text": [
      "(1000, 22)\n",
      "<class 'pandas.core.frame.DataFrame'>\n",
      "RangeIndex: 1000 entries, 0 to 999\n",
      "Data columns (total 22 columns):\n",
      " #   Column           Non-Null Count  Dtype \n",
      "---  ------           --------------  ----- \n",
      " 0   plate_no         1000 non-null   object\n",
      " 1   rolling_date     1000 non-null   object\n",
      " 2   scale            1000 non-null   object\n",
      " 3   spec_long        1000 non-null   object\n",
      " 4   spec_country     1000 non-null   object\n",
      " 5   steel_kind       1000 non-null   object\n",
      " 6   pt_thick         1000 non-null   int64 \n",
      " 7   pt_width         1000 non-null   int64 \n",
      " 8   pt_length        1000 non-null   int64 \n",
      " 9   hsb              1000 non-null   object\n",
      " 10  fur_no           1000 non-null   object\n",
      " 11  fur_input_row    1000 non-null   object\n",
      " 12  fur_heat_temp    1000 non-null   int64 \n",
      " 13  fur_heat_time    1000 non-null   int64 \n",
      " 14  fur_soak_temp    1000 non-null   int64 \n",
      " 15  fur_soak_time    1000 non-null   int64 \n",
      " 16  fur_total_time   1000 non-null   int64 \n",
      " 17  fur_ex_temp      1000 non-null   int64 \n",
      " 18  rolling_method   1000 non-null   object\n",
      " 19  rolling_temp     1000 non-null   int64 \n",
      " 20  descaling_count  1000 non-null   int64 \n",
      " 21  work_group       1000 non-null   object\n",
      "dtypes: int64(11), object(11)\n",
      "memory usage: 172.0+ KB\n"
     ]
    }
   ],
   "source": [
    "print(df_raw.shape)\n",
    "df_raw.info()"
   ]
  },
  {
   "attachments": {},
   "cell_type": "markdown",
   "metadata": {},
   "source": [
    "- 데이터 확인 결과 총 1000개의 데이터 21개의 설명변수와 1개의 목표변수로 이루어져 있다."
   ]
  },
  {
   "attachments": {},
   "cell_type": "markdown",
   "metadata": {},
   "source": [
    "## 1. 데이터 분석, 전처리\n",
    "- 결측치 확인\n",
    "- 필요없는 데이터 분리 및 목표변수/설명변수 분리\n",
    "- 이상치 제거\n",
    "- 변수 커스터마이징"
   ]
  },
  {
   "attachments": {},
   "cell_type": "markdown",
   "metadata": {},
   "source": [
    "### 결측치 확인\n"
   ]
  },
  {
   "cell_type": "code",
   "execution_count": 190,
   "metadata": {},
   "outputs": [
    {
     "data": {
      "text/plain": [
       "plate_no           0\n",
       "rolling_date       0\n",
       "scale              0\n",
       "spec_long          0\n",
       "spec_country       0\n",
       "steel_kind         0\n",
       "pt_thick           0\n",
       "pt_width           0\n",
       "pt_length          0\n",
       "hsb                0\n",
       "fur_no             0\n",
       "fur_input_row      0\n",
       "fur_heat_temp      0\n",
       "fur_heat_time      0\n",
       "fur_soak_temp      0\n",
       "fur_soak_time      0\n",
       "fur_total_time     0\n",
       "fur_ex_temp        0\n",
       "rolling_method     0\n",
       "rolling_temp       0\n",
       "descaling_count    0\n",
       "work_group         0\n",
       "dtype: int64"
      ]
     },
     "execution_count": 190,
     "metadata": {},
     "output_type": "execute_result"
    }
   ],
   "source": [
    "df_raw.isnull().sum()"
   ]
  },
  {
   "attachments": {},
   "cell_type": "markdown",
   "metadata": {},
   "source": [
    "- 결측치가 없기 때문에 따로 제거할 필요가 없다.\n"
   ]
  },
  {
   "attachments": {},
   "cell_type": "markdown",
   "metadata": {},
   "source": [
    "### 열연작업시각 데이터, 철판번호 제거\n",
    "\n",
    "- 인덱스 번호와 다름없는 철판번호는 필요하지 않기 때문에 제거한다.   \n",
    "- 날짜 데이터도 관련이 없다고 판단하여 제거한다.   "
   ]
  },
  {
   "cell_type": "code",
   "execution_count": 191,
   "metadata": {},
   "outputs": [
    {
     "data": {
      "text/html": [
       "<div>\n",
       "<style scoped>\n",
       "    .dataframe tbody tr th:only-of-type {\n",
       "        vertical-align: middle;\n",
       "    }\n",
       "\n",
       "    .dataframe tbody tr th {\n",
       "        vertical-align: top;\n",
       "    }\n",
       "\n",
       "    .dataframe thead th {\n",
       "        text-align: right;\n",
       "    }\n",
       "</style>\n",
       "<table border=\"1\" class=\"dataframe\">\n",
       "  <thead>\n",
       "    <tr style=\"text-align: right;\">\n",
       "      <th></th>\n",
       "      <th>scale</th>\n",
       "      <th>spec_long</th>\n",
       "      <th>spec_country</th>\n",
       "      <th>steel_kind</th>\n",
       "      <th>pt_thick</th>\n",
       "      <th>pt_width</th>\n",
       "      <th>pt_length</th>\n",
       "      <th>hsb</th>\n",
       "      <th>fur_no</th>\n",
       "      <th>fur_input_row</th>\n",
       "      <th>fur_heat_temp</th>\n",
       "      <th>fur_heat_time</th>\n",
       "      <th>fur_soak_temp</th>\n",
       "      <th>fur_soak_time</th>\n",
       "      <th>fur_total_time</th>\n",
       "      <th>fur_ex_temp</th>\n",
       "      <th>rolling_method</th>\n",
       "      <th>rolling_temp</th>\n",
       "      <th>descaling_count</th>\n",
       "      <th>work_group</th>\n",
       "    </tr>\n",
       "  </thead>\n",
       "  <tbody>\n",
       "    <tr>\n",
       "      <th>0</th>\n",
       "      <td>양품</td>\n",
       "      <td>AB/EH32-TM</td>\n",
       "      <td>미국</td>\n",
       "      <td>T</td>\n",
       "      <td>32</td>\n",
       "      <td>3700</td>\n",
       "      <td>15100</td>\n",
       "      <td>적용</td>\n",
       "      <td>1호기</td>\n",
       "      <td>1열</td>\n",
       "      <td>1144</td>\n",
       "      <td>116</td>\n",
       "      <td>1133</td>\n",
       "      <td>59</td>\n",
       "      <td>259</td>\n",
       "      <td>1133</td>\n",
       "      <td>TMCP(온도제어)</td>\n",
       "      <td>934</td>\n",
       "      <td>8</td>\n",
       "      <td>1조</td>\n",
       "    </tr>\n",
       "    <tr>\n",
       "      <th>1</th>\n",
       "      <td>양품</td>\n",
       "      <td>AB/EH32-TM</td>\n",
       "      <td>미국</td>\n",
       "      <td>T</td>\n",
       "      <td>32</td>\n",
       "      <td>3700</td>\n",
       "      <td>15100</td>\n",
       "      <td>적용</td>\n",
       "      <td>1호기</td>\n",
       "      <td>2열</td>\n",
       "      <td>1144</td>\n",
       "      <td>122</td>\n",
       "      <td>1135</td>\n",
       "      <td>53</td>\n",
       "      <td>238</td>\n",
       "      <td>1135</td>\n",
       "      <td>TMCP(온도제어)</td>\n",
       "      <td>937</td>\n",
       "      <td>8</td>\n",
       "      <td>1조</td>\n",
       "    </tr>\n",
       "    <tr>\n",
       "      <th>2</th>\n",
       "      <td>양품</td>\n",
       "      <td>NV-E36-TM</td>\n",
       "      <td>영국</td>\n",
       "      <td>T</td>\n",
       "      <td>33</td>\n",
       "      <td>3600</td>\n",
       "      <td>19200</td>\n",
       "      <td>적용</td>\n",
       "      <td>2호기</td>\n",
       "      <td>1열</td>\n",
       "      <td>1129</td>\n",
       "      <td>116</td>\n",
       "      <td>1121</td>\n",
       "      <td>55</td>\n",
       "      <td>258</td>\n",
       "      <td>1121</td>\n",
       "      <td>TMCP(온도제어)</td>\n",
       "      <td>889</td>\n",
       "      <td>8</td>\n",
       "      <td>1조</td>\n",
       "    </tr>\n",
       "    <tr>\n",
       "      <th>3</th>\n",
       "      <td>양품</td>\n",
       "      <td>NV-E36-TM</td>\n",
       "      <td>영국</td>\n",
       "      <td>T</td>\n",
       "      <td>33</td>\n",
       "      <td>3600</td>\n",
       "      <td>19200</td>\n",
       "      <td>적용</td>\n",
       "      <td>2호기</td>\n",
       "      <td>2열</td>\n",
       "      <td>1152</td>\n",
       "      <td>125</td>\n",
       "      <td>1127</td>\n",
       "      <td>68</td>\n",
       "      <td>266</td>\n",
       "      <td>1127</td>\n",
       "      <td>TMCP(온도제어)</td>\n",
       "      <td>885</td>\n",
       "      <td>8</td>\n",
       "      <td>1조</td>\n",
       "    </tr>\n",
       "    <tr>\n",
       "      <th>4</th>\n",
       "      <td>양품</td>\n",
       "      <td>BV-EH36-TM</td>\n",
       "      <td>프랑스</td>\n",
       "      <td>T</td>\n",
       "      <td>38</td>\n",
       "      <td>3100</td>\n",
       "      <td>13300</td>\n",
       "      <td>적용</td>\n",
       "      <td>3호기</td>\n",
       "      <td>1열</td>\n",
       "      <td>1140</td>\n",
       "      <td>134</td>\n",
       "      <td>1128</td>\n",
       "      <td>48</td>\n",
       "      <td>246</td>\n",
       "      <td>1128</td>\n",
       "      <td>TMCP(온도제어)</td>\n",
       "      <td>873</td>\n",
       "      <td>8</td>\n",
       "      <td>1조</td>\n",
       "    </tr>\n",
       "  </tbody>\n",
       "</table>\n",
       "</div>"
      ],
      "text/plain": [
       "  scale   spec_long spec_country steel_kind  pt_thick  pt_width  pt_length  \\\n",
       "0    양품  AB/EH32-TM           미국          T        32      3700      15100   \n",
       "1    양품  AB/EH32-TM           미국          T        32      3700      15100   \n",
       "2    양품   NV-E36-TM           영국          T        33      3600      19200   \n",
       "3    양품   NV-E36-TM           영국          T        33      3600      19200   \n",
       "4    양품  BV-EH36-TM          프랑스          T        38      3100      13300   \n",
       "\n",
       "  hsb fur_no fur_input_row  fur_heat_temp  fur_heat_time  fur_soak_temp  \\\n",
       "0  적용    1호기            1열           1144            116           1133   \n",
       "1  적용    1호기            2열           1144            122           1135   \n",
       "2  적용    2호기            1열           1129            116           1121   \n",
       "3  적용    2호기            2열           1152            125           1127   \n",
       "4  적용    3호기            1열           1140            134           1128   \n",
       "\n",
       "   fur_soak_time  fur_total_time  fur_ex_temp rolling_method  rolling_temp  \\\n",
       "0             59             259         1133     TMCP(온도제어)           934   \n",
       "1             53             238         1135     TMCP(온도제어)           937   \n",
       "2             55             258         1121     TMCP(온도제어)           889   \n",
       "3             68             266         1127     TMCP(온도제어)           885   \n",
       "4             48             246         1128     TMCP(온도제어)           873   \n",
       "\n",
       "   descaling_count work_group  \n",
       "0                8         1조  \n",
       "1                8         1조  \n",
       "2                8         1조  \n",
       "3                8         1조  \n",
       "4                8         1조  "
      ]
     },
     "execution_count": 191,
     "metadata": {},
     "output_type": "execute_result"
    }
   ],
   "source": [
    "df_raw.drop([\"plate_no\", \"rolling_date\"], axis=1, inplace=True)\n",
    "df_raw.head()"
   ]
  },
  {
   "attachments": {},
   "cell_type": "markdown",
   "metadata": {},
   "source": [
    "### 변수 전처리"
   ]
  },
  {
   "attachments": {},
   "cell_type": "markdown",
   "metadata": {},
   "source": [
    "#### 현재 목표변수 scale이 양품, 불량품으로 나눠져 있으므로, 불량을 1 양품을 0으로 할당한다."
   ]
  },
  {
   "cell_type": "code",
   "execution_count": 192,
   "metadata": {},
   "outputs": [
    {
     "data": {
      "text/plain": [
       "0      0\n",
       "1      0\n",
       "2      0\n",
       "3      0\n",
       "4      0\n",
       "      ..\n",
       "995    0\n",
       "996    0\n",
       "997    0\n",
       "998    0\n",
       "999    0\n",
       "Name: scale, Length: 1000, dtype: int64"
      ]
     },
     "execution_count": 192,
     "metadata": {},
     "output_type": "execute_result"
    }
   ],
   "source": [
    "df_raw['scale'] = np.where(df_raw['scale'] == '양품', 0, 1)\n",
    "df_raw['scale']"
   ]
  },
  {
   "cell_type": "code",
   "execution_count": 193,
   "metadata": {},
   "outputs": [
    {
     "data": {
      "text/plain": [
       "0    690\n",
       "1    310\n",
       "Name: scale, dtype: int64"
      ]
     },
     "execution_count": 193,
     "metadata": {},
     "output_type": "execute_result"
    }
   ],
   "source": [
    "df_raw['scale'].value_counts()"
   ]
  },
  {
   "cell_type": "code",
   "execution_count": 194,
   "metadata": {},
   "outputs": [
    {
     "name": "stdout",
     "output_type": "stream",
     "text": [
      "<class 'pandas.core.frame.DataFrame'>\n",
      "RangeIndex: 1000 entries, 0 to 999\n",
      "Data columns (total 20 columns):\n",
      " #   Column           Non-Null Count  Dtype \n",
      "---  ------           --------------  ----- \n",
      " 0   scale            1000 non-null   int64 \n",
      " 1   spec_long        1000 non-null   object\n",
      " 2   spec_country     1000 non-null   object\n",
      " 3   steel_kind       1000 non-null   object\n",
      " 4   pt_thick         1000 non-null   int64 \n",
      " 5   pt_width         1000 non-null   int64 \n",
      " 6   pt_length        1000 non-null   int64 \n",
      " 7   hsb              1000 non-null   object\n",
      " 8   fur_no           1000 non-null   object\n",
      " 9   fur_input_row    1000 non-null   object\n",
      " 10  fur_heat_temp    1000 non-null   int64 \n",
      " 11  fur_heat_time    1000 non-null   int64 \n",
      " 12  fur_soak_temp    1000 non-null   int64 \n",
      " 13  fur_soak_time    1000 non-null   int64 \n",
      " 14  fur_total_time   1000 non-null   int64 \n",
      " 15  fur_ex_temp      1000 non-null   int64 \n",
      " 16  rolling_method   1000 non-null   object\n",
      " 17  rolling_temp     1000 non-null   int64 \n",
      " 18  descaling_count  1000 non-null   int64 \n",
      " 19  work_group       1000 non-null   object\n",
      "dtypes: int64(12), object(8)\n",
      "memory usage: 156.4+ KB\n"
     ]
    }
   ],
   "source": [
    "df_raw.info()"
   ]
  },
  {
   "attachments": {},
   "cell_type": "markdown",
   "metadata": {},
   "source": [
    "#### 데이터 형 변환 (Object) => (Category)"
   ]
  },
  {
   "cell_type": "code",
   "execution_count": 195,
   "metadata": {},
   "outputs": [],
   "source": [
    "df_raw['spec_long'] = df_raw.spec_long.astype('category')\n",
    "df_raw['spec_country'] = df_raw.spec_country.astype('category')\n",
    "df_raw['steel_kind'] = df_raw.steel_kind.astype('category')\n",
    "df_raw['hsb'] = df_raw.hsb.astype('category')\n",
    "df_raw['fur_no'] = df_raw.fur_no.astype('category')\n",
    "df_raw['fur_input_row'] = df_raw.fur_input_row.astype('category')\n",
    "df_raw['rolling_method'] = df_raw.rolling_method.astype('category')\n",
    "df_raw['work_group'] = df_raw.work_group.astype('category')"
   ]
  },
  {
   "cell_type": "code",
   "execution_count": 196,
   "metadata": {},
   "outputs": [
    {
     "name": "stdout",
     "output_type": "stream",
     "text": [
      "<class 'pandas.core.frame.DataFrame'>\n",
      "RangeIndex: 1000 entries, 0 to 999\n",
      "Data columns (total 20 columns):\n",
      " #   Column           Non-Null Count  Dtype   \n",
      "---  ------           --------------  -----   \n",
      " 0   scale            1000 non-null   int64   \n",
      " 1   spec_long        1000 non-null   category\n",
      " 2   spec_country     1000 non-null   category\n",
      " 3   steel_kind       1000 non-null   category\n",
      " 4   pt_thick         1000 non-null   int64   \n",
      " 5   pt_width         1000 non-null   int64   \n",
      " 6   pt_length        1000 non-null   int64   \n",
      " 7   hsb              1000 non-null   category\n",
      " 8   fur_no           1000 non-null   category\n",
      " 9   fur_input_row    1000 non-null   category\n",
      " 10  fur_heat_temp    1000 non-null   int64   \n",
      " 11  fur_heat_time    1000 non-null   int64   \n",
      " 12  fur_soak_temp    1000 non-null   int64   \n",
      " 13  fur_soak_time    1000 non-null   int64   \n",
      " 14  fur_total_time   1000 non-null   int64   \n",
      " 15  fur_ex_temp      1000 non-null   int64   \n",
      " 16  rolling_method   1000 non-null   category\n",
      " 17  rolling_temp     1000 non-null   int64   \n",
      " 18  descaling_count  1000 non-null   int64   \n",
      " 19  work_group       1000 non-null   category\n",
      "dtypes: category(8), int64(12)\n",
      "memory usage: 105.4 KB\n"
     ]
    }
   ],
   "source": [
    "df_raw.info()"
   ]
  },
  {
   "attachments": {},
   "cell_type": "markdown",
   "metadata": {},
   "source": [
    "### 이상치 제거\n",
    "- 하단 탐색적 분석 진행도중 ROLLING_TEMP_T5의 이상치 확인\n",
    "- 0 데이터가 나오는 것으로 보임으로 해당 데이터 삭제를 함"
   ]
  },
  {
   "cell_type": "code",
   "execution_count": 165,
   "metadata": {},
   "outputs": [
    {
     "data": {
      "text/plain": [
       "<AxesSubplot: >"
      ]
     },
     "execution_count": 165,
     "metadata": {},
     "output_type": "execute_result"
    },
    {
     "data": {
      "image/png": "[encoded data removed]",
      "text/plain": [
       "<Figure size 1080x720 with 1 Axes>"
      ]
     },
     "metadata": {
      "needs_background": "light"
     },
     "output_type": "display_data"
    }
   ],
   "source": [
    "df_raw[[\"pt_thick\", 'pt_width', 'pt_length', 'fur_heat_temp', 'fur_heat_time']].boxplot(figsize = (15, 10))"
   ]
  },
  {
   "cell_type": "code",
   "execution_count": 166,
   "metadata": {},
   "outputs": [
    {
     "data": {
      "text/plain": [
       "<AxesSubplot: >"
      ]
     },
     "execution_count": 166,
     "metadata": {},
     "output_type": "execute_result"
    },
    {
     "data": {
      "image/png": "[encoded data removed]",
      "text/plain": [
       "<Figure size 1080x720 with 1 Axes>"
      ]
     },
     "metadata": {
      "needs_background": "light"
     },
     "output_type": "display_data"
    }
   ],
   "source": [
    "df_raw[[\"fur_soak_temp\", 'fur_soak_time', 'fur_total_time', 'fur_ex_temp', 'rolling_temp', 'descaling_count']].boxplot(figsize = (15, 10))"
   ]
  },
  {
   "attachments": {},
   "cell_type": "markdown",
   "metadata": {},
   "source": [
    "- 그래프를 비교해 본 결과 rolling temp에 이상치가 있는 것으로 보이며, fur_soak_temp와 fur_ex_temp가 동일한 분포인 것으로 보인다."
   ]
  },
  {
   "cell_type": "code",
   "execution_count": 167,
   "metadata": {},
   "outputs": [
    {
     "data": {
      "text/plain": [
       "221       0\n",
       "53        0\n",
       "599       0\n",
       "600       0\n",
       "222       0\n",
       "       ... \n",
       "188    1066\n",
       "191    1068\n",
       "715    1071\n",
       "716    1071\n",
       "187    1078\n",
       "Name: rolling_temp, Length: 1000, dtype: int64"
      ]
     },
     "execution_count": 167,
     "metadata": {},
     "output_type": "execute_result"
    }
   ],
   "source": [
    "df_raw['rolling_temp'].sort_values()"
   ]
  },
  {
   "attachments": {},
   "cell_type": "markdown",
   "metadata": {},
   "source": [
    "0도인 컬럼들이 존재하니 이를 확인한다."
   ]
  },
  {
   "cell_type": "code",
   "execution_count": 168,
   "metadata": {},
   "outputs": [
    {
     "data": {
      "text/html": [
       "<div>\n",
       "<style scoped>\n",
       "    .dataframe tbody tr th:only-of-type {\n",
       "        vertical-align: middle;\n",
       "    }\n",
       "\n",
       "    .dataframe tbody tr th {\n",
       "        vertical-align: top;\n",
       "    }\n",
       "\n",
       "    .dataframe thead th {\n",
       "        text-align: right;\n",
       "    }\n",
       "</style>\n",
       "<table border=\"1\" class=\"dataframe\">\n",
       "  <thead>\n",
       "    <tr style=\"text-align: right;\">\n",
       "      <th></th>\n",
       "      <th>scale</th>\n",
       "      <th>spec_long</th>\n",
       "      <th>spec_country</th>\n",
       "      <th>steel_kind</th>\n",
       "      <th>pt_thick</th>\n",
       "      <th>pt_width</th>\n",
       "      <th>pt_length</th>\n",
       "      <th>hsb</th>\n",
       "      <th>fur_no</th>\n",
       "      <th>fur_input_row</th>\n",
       "      <th>fur_heat_temp</th>\n",
       "      <th>fur_heat_time</th>\n",
       "      <th>fur_soak_temp</th>\n",
       "      <th>fur_soak_time</th>\n",
       "      <th>fur_total_time</th>\n",
       "      <th>fur_ex_temp</th>\n",
       "      <th>rolling_method</th>\n",
       "      <th>rolling_temp</th>\n",
       "      <th>descaling_count</th>\n",
       "      <th>work_group</th>\n",
       "    </tr>\n",
       "  </thead>\n",
       "  <tbody>\n",
       "    <tr>\n",
       "      <th>53</th>\n",
       "      <td>0</td>\n",
       "      <td>GL-E36-TM</td>\n",
       "      <td>독일</td>\n",
       "      <td>T</td>\n",
       "      <td>56</td>\n",
       "      <td>3800</td>\n",
       "      <td>11400</td>\n",
       "      <td>적용</td>\n",
       "      <td>3호기</td>\n",
       "      <td>2열</td>\n",
       "      <td>1132</td>\n",
       "      <td>95</td>\n",
       "      <td>1128</td>\n",
       "      <td>80</td>\n",
       "      <td>244</td>\n",
       "      <td>1128</td>\n",
       "      <td>TMCP(온도제어)</td>\n",
       "      <td>0</td>\n",
       "      <td>6</td>\n",
       "      <td>1조</td>\n",
       "    </tr>\n",
       "    <tr>\n",
       "      <th>221</th>\n",
       "      <td>0</td>\n",
       "      <td>JS-SM490YB</td>\n",
       "      <td>일본</td>\n",
       "      <td>C</td>\n",
       "      <td>16</td>\n",
       "      <td>2200</td>\n",
       "      <td>43600</td>\n",
       "      <td>적용</td>\n",
       "      <td>3호기</td>\n",
       "      <td>2열</td>\n",
       "      <td>1163</td>\n",
       "      <td>57</td>\n",
       "      <td>1166</td>\n",
       "      <td>67</td>\n",
       "      <td>228</td>\n",
       "      <td>1166</td>\n",
       "      <td>CR(제어압연)</td>\n",
       "      <td>0</td>\n",
       "      <td>10</td>\n",
       "      <td>2조</td>\n",
       "    </tr>\n",
       "    <tr>\n",
       "      <th>222</th>\n",
       "      <td>0</td>\n",
       "      <td>JS-SM490YB</td>\n",
       "      <td>일본</td>\n",
       "      <td>C</td>\n",
       "      <td>16</td>\n",
       "      <td>2200</td>\n",
       "      <td>43600</td>\n",
       "      <td>적용</td>\n",
       "      <td>3호기</td>\n",
       "      <td>1열</td>\n",
       "      <td>1169</td>\n",
       "      <td>64</td>\n",
       "      <td>1164</td>\n",
       "      <td>61</td>\n",
       "      <td>188</td>\n",
       "      <td>1164</td>\n",
       "      <td>CR(제어압연)</td>\n",
       "      <td>0</td>\n",
       "      <td>10</td>\n",
       "      <td>2조</td>\n",
       "    </tr>\n",
       "    <tr>\n",
       "      <th>598</th>\n",
       "      <td>0</td>\n",
       "      <td>PILAC-BT33</td>\n",
       "      <td>한국</td>\n",
       "      <td>T</td>\n",
       "      <td>81</td>\n",
       "      <td>2100</td>\n",
       "      <td>12900</td>\n",
       "      <td>적용</td>\n",
       "      <td>2호기</td>\n",
       "      <td>1열</td>\n",
       "      <td>1133</td>\n",
       "      <td>89</td>\n",
       "      <td>1122</td>\n",
       "      <td>59</td>\n",
       "      <td>229</td>\n",
       "      <td>1122</td>\n",
       "      <td>CR(제어압연)</td>\n",
       "      <td>0</td>\n",
       "      <td>6</td>\n",
       "      <td>3조</td>\n",
       "    </tr>\n",
       "    <tr>\n",
       "      <th>599</th>\n",
       "      <td>0</td>\n",
       "      <td>PILAC-BT33</td>\n",
       "      <td>한국</td>\n",
       "      <td>T</td>\n",
       "      <td>81</td>\n",
       "      <td>2100</td>\n",
       "      <td>13200</td>\n",
       "      <td>적용</td>\n",
       "      <td>1호기</td>\n",
       "      <td>2열</td>\n",
       "      <td>1130</td>\n",
       "      <td>92</td>\n",
       "      <td>1124</td>\n",
       "      <td>61</td>\n",
       "      <td>210</td>\n",
       "      <td>1124</td>\n",
       "      <td>CR(제어압연)</td>\n",
       "      <td>0</td>\n",
       "      <td>6</td>\n",
       "      <td>3조</td>\n",
       "    </tr>\n",
       "    <tr>\n",
       "      <th>600</th>\n",
       "      <td>0</td>\n",
       "      <td>NV-D32-TM</td>\n",
       "      <td>영국</td>\n",
       "      <td>T</td>\n",
       "      <td>40</td>\n",
       "      <td>2500</td>\n",
       "      <td>23600</td>\n",
       "      <td>적용</td>\n",
       "      <td>3호기</td>\n",
       "      <td>1열</td>\n",
       "      <td>1119</td>\n",
       "      <td>109</td>\n",
       "      <td>1117</td>\n",
       "      <td>76</td>\n",
       "      <td>260</td>\n",
       "      <td>1117</td>\n",
       "      <td>TMCP(온도제어)</td>\n",
       "      <td>0</td>\n",
       "      <td>6</td>\n",
       "      <td>3조</td>\n",
       "    </tr>\n",
       "  </tbody>\n",
       "</table>\n",
       "</div>"
      ],
      "text/plain": [
       "     scale   spec_long spec_country steel_kind  pt_thick  pt_width  pt_length  \\\n",
       "53       0   GL-E36-TM           독일          T        56      3800      11400   \n",
       "221      0  JS-SM490YB           일본          C        16      2200      43600   \n",
       "222      0  JS-SM490YB           일본          C        16      2200      43600   \n",
       "598      0  PILAC-BT33           한국          T        81      2100      12900   \n",
       "599      0  PILAC-BT33           한국          T        81      2100      13200   \n",
       "600      0   NV-D32-TM           영국          T        40      2500      23600   \n",
       "\n",
       "    hsb fur_no fur_input_row  fur_heat_temp  fur_heat_time  fur_soak_temp  \\\n",
       "53   적용    3호기            2열           1132             95           1128   \n",
       "221  적용    3호기            2열           1163             57           1166   \n",
       "222  적용    3호기            1열           1169             64           1164   \n",
       "598  적용    2호기            1열           1133             89           1122   \n",
       "599  적용    1호기            2열           1130             92           1124   \n",
       "600  적용    3호기            1열           1119            109           1117   \n",
       "\n",
       "     fur_soak_time  fur_total_time  fur_ex_temp rolling_method  rolling_temp  \\\n",
       "53              80             244         1128     TMCP(온도제어)             0   \n",
       "221             67             228         1166       CR(제어압연)             0   \n",
       "222             61             188         1164       CR(제어압연)             0   \n",
       "598             59             229         1122       CR(제어압연)             0   \n",
       "599             61             210         1124       CR(제어압연)             0   \n",
       "600             76             260         1117     TMCP(온도제어)             0   \n",
       "\n",
       "     descaling_count work_group  \n",
       "53                 6         1조  \n",
       "221               10         2조  \n",
       "222               10         2조  \n",
       "598                6         3조  \n",
       "599                6         3조  \n",
       "600                6         3조  "
      ]
     },
     "execution_count": 168,
     "metadata": {},
     "output_type": "execute_result"
    }
   ],
   "source": [
    "df_raw[df_raw['rolling_temp'] == 0]"
   ]
  },
  {
   "attachments": {},
   "cell_type": "markdown",
   "metadata": {},
   "source": [
    "가열로 온도가 0도 인 것은 이상치로 볼 수 있으므로 이를 삭제한다.\n",
    "- 이상치 6개 삭제"
   ]
  },
  {
   "cell_type": "code",
   "execution_count": 169,
   "metadata": {},
   "outputs": [
    {
     "data": {
      "text/plain": [
       "(994, 21)"
      ]
     },
     "execution_count": 169,
     "metadata": {},
     "output_type": "execute_result"
    }
   ],
   "source": [
    "df_raw = df_raw[df_raw['rolling_temp'] > 10]\n",
    "df_raw.reset_index(inplace=True)\n",
    "df_raw.shape"
   ]
  },
  {
   "cell_type": "code",
   "execution_count": 170,
   "metadata": {},
   "outputs": [
    {
     "data": {
      "text/plain": [
       "True    994\n",
       "dtype: int64"
      ]
     },
     "execution_count": 170,
     "metadata": {},
     "output_type": "execute_result"
    }
   ],
   "source": [
    "(df_raw['fur_soak_temp'] == df_raw['fur_ex_temp']).value_counts()"
   ]
  },
  {
   "attachments": {},
   "cell_type": "markdown",
   "metadata": {},
   "source": [
    "- 둘 중 fur_soak_temp 칼럼을 삭제한다."
   ]
  },
  {
   "cell_type": "code",
   "execution_count": 171,
   "metadata": {},
   "outputs": [
    {
     "data": {
      "text/html": [
       "<div>\n",
       "<style scoped>\n",
       "    .dataframe tbody tr th:only-of-type {\n",
       "        vertical-align: middle;\n",
       "    }\n",
       "\n",
       "    .dataframe tbody tr th {\n",
       "        vertical-align: top;\n",
       "    }\n",
       "\n",
       "    .dataframe thead th {\n",
       "        text-align: right;\n",
       "    }\n",
       "</style>\n",
       "<table border=\"1\" class=\"dataframe\">\n",
       "  <thead>\n",
       "    <tr style=\"text-align: right;\">\n",
       "      <th></th>\n",
       "      <th>index</th>\n",
       "      <th>scale</th>\n",
       "      <th>spec_long</th>\n",
       "      <th>spec_country</th>\n",
       "      <th>steel_kind</th>\n",
       "      <th>pt_thick</th>\n",
       "      <th>pt_width</th>\n",
       "      <th>pt_length</th>\n",
       "      <th>hsb</th>\n",
       "      <th>fur_no</th>\n",
       "      <th>fur_input_row</th>\n",
       "      <th>fur_heat_temp</th>\n",
       "      <th>fur_heat_time</th>\n",
       "      <th>fur_soak_time</th>\n",
       "      <th>fur_total_time</th>\n",
       "      <th>fur_ex_temp</th>\n",
       "      <th>rolling_method</th>\n",
       "      <th>rolling_temp</th>\n",
       "      <th>descaling_count</th>\n",
       "      <th>work_group</th>\n",
       "    </tr>\n",
       "  </thead>\n",
       "  <tbody>\n",
       "    <tr>\n",
       "      <th>0</th>\n",
       "      <td>0</td>\n",
       "      <td>0</td>\n",
       "      <td>AB/EH32-TM</td>\n",
       "      <td>미국</td>\n",
       "      <td>T</td>\n",
       "      <td>32</td>\n",
       "      <td>3700</td>\n",
       "      <td>15100</td>\n",
       "      <td>적용</td>\n",
       "      <td>1호기</td>\n",
       "      <td>1열</td>\n",
       "      <td>1144</td>\n",
       "      <td>116</td>\n",
       "      <td>59</td>\n",
       "      <td>259</td>\n",
       "      <td>1133</td>\n",
       "      <td>TMCP(온도제어)</td>\n",
       "      <td>934</td>\n",
       "      <td>8</td>\n",
       "      <td>1조</td>\n",
       "    </tr>\n",
       "    <tr>\n",
       "      <th>1</th>\n",
       "      <td>1</td>\n",
       "      <td>0</td>\n",
       "      <td>AB/EH32-TM</td>\n",
       "      <td>미국</td>\n",
       "      <td>T</td>\n",
       "      <td>32</td>\n",
       "      <td>3700</td>\n",
       "      <td>15100</td>\n",
       "      <td>적용</td>\n",
       "      <td>1호기</td>\n",
       "      <td>2열</td>\n",
       "      <td>1144</td>\n",
       "      <td>122</td>\n",
       "      <td>53</td>\n",
       "      <td>238</td>\n",
       "      <td>1135</td>\n",
       "      <td>TMCP(온도제어)</td>\n",
       "      <td>937</td>\n",
       "      <td>8</td>\n",
       "      <td>1조</td>\n",
       "    </tr>\n",
       "    <tr>\n",
       "      <th>2</th>\n",
       "      <td>2</td>\n",
       "      <td>0</td>\n",
       "      <td>NV-E36-TM</td>\n",
       "      <td>영국</td>\n",
       "      <td>T</td>\n",
       "      <td>33</td>\n",
       "      <td>3600</td>\n",
       "      <td>19200</td>\n",
       "      <td>적용</td>\n",
       "      <td>2호기</td>\n",
       "      <td>1열</td>\n",
       "      <td>1129</td>\n",
       "      <td>116</td>\n",
       "      <td>55</td>\n",
       "      <td>258</td>\n",
       "      <td>1121</td>\n",
       "      <td>TMCP(온도제어)</td>\n",
       "      <td>889</td>\n",
       "      <td>8</td>\n",
       "      <td>1조</td>\n",
       "    </tr>\n",
       "    <tr>\n",
       "      <th>3</th>\n",
       "      <td>3</td>\n",
       "      <td>0</td>\n",
       "      <td>NV-E36-TM</td>\n",
       "      <td>영국</td>\n",
       "      <td>T</td>\n",
       "      <td>33</td>\n",
       "      <td>3600</td>\n",
       "      <td>19200</td>\n",
       "      <td>적용</td>\n",
       "      <td>2호기</td>\n",
       "      <td>2열</td>\n",
       "      <td>1152</td>\n",
       "      <td>125</td>\n",
       "      <td>68</td>\n",
       "      <td>266</td>\n",
       "      <td>1127</td>\n",
       "      <td>TMCP(온도제어)</td>\n",
       "      <td>885</td>\n",
       "      <td>8</td>\n",
       "      <td>1조</td>\n",
       "    </tr>\n",
       "    <tr>\n",
       "      <th>4</th>\n",
       "      <td>4</td>\n",
       "      <td>0</td>\n",
       "      <td>BV-EH36-TM</td>\n",
       "      <td>프랑스</td>\n",
       "      <td>T</td>\n",
       "      <td>38</td>\n",
       "      <td>3100</td>\n",
       "      <td>13300</td>\n",
       "      <td>적용</td>\n",
       "      <td>3호기</td>\n",
       "      <td>1열</td>\n",
       "      <td>1140</td>\n",
       "      <td>134</td>\n",
       "      <td>48</td>\n",
       "      <td>246</td>\n",
       "      <td>1128</td>\n",
       "      <td>TMCP(온도제어)</td>\n",
       "      <td>873</td>\n",
       "      <td>8</td>\n",
       "      <td>1조</td>\n",
       "    </tr>\n",
       "    <tr>\n",
       "      <th>...</th>\n",
       "      <td>...</td>\n",
       "      <td>...</td>\n",
       "      <td>...</td>\n",
       "      <td>...</td>\n",
       "      <td>...</td>\n",
       "      <td>...</td>\n",
       "      <td>...</td>\n",
       "      <td>...</td>\n",
       "      <td>...</td>\n",
       "      <td>...</td>\n",
       "      <td>...</td>\n",
       "      <td>...</td>\n",
       "      <td>...</td>\n",
       "      <td>...</td>\n",
       "      <td>...</td>\n",
       "      <td>...</td>\n",
       "      <td>...</td>\n",
       "      <td>...</td>\n",
       "      <td>...</td>\n",
       "      <td>...</td>\n",
       "    </tr>\n",
       "    <tr>\n",
       "      <th>989</th>\n",
       "      <td>995</td>\n",
       "      <td>0</td>\n",
       "      <td>BV-A</td>\n",
       "      <td>프랑스</td>\n",
       "      <td>C</td>\n",
       "      <td>19</td>\n",
       "      <td>3400</td>\n",
       "      <td>41500</td>\n",
       "      <td>적용</td>\n",
       "      <td>1호기</td>\n",
       "      <td>2열</td>\n",
       "      <td>1142</td>\n",
       "      <td>55</td>\n",
       "      <td>86</td>\n",
       "      <td>203</td>\n",
       "      <td>1151</td>\n",
       "      <td>CR(제어압연)</td>\n",
       "      <td>948</td>\n",
       "      <td>10</td>\n",
       "      <td>4조</td>\n",
       "    </tr>\n",
       "    <tr>\n",
       "      <th>990</th>\n",
       "      <td>996</td>\n",
       "      <td>0</td>\n",
       "      <td>LR-A</td>\n",
       "      <td>영국</td>\n",
       "      <td>C</td>\n",
       "      <td>19</td>\n",
       "      <td>3400</td>\n",
       "      <td>41500</td>\n",
       "      <td>적용</td>\n",
       "      <td>1호기</td>\n",
       "      <td>2열</td>\n",
       "      <td>1142</td>\n",
       "      <td>55</td>\n",
       "      <td>86</td>\n",
       "      <td>209</td>\n",
       "      <td>1151</td>\n",
       "      <td>CR(제어압연)</td>\n",
       "      <td>948</td>\n",
       "      <td>10</td>\n",
       "      <td>4조</td>\n",
       "    </tr>\n",
       "    <tr>\n",
       "      <th>991</th>\n",
       "      <td>997</td>\n",
       "      <td>0</td>\n",
       "      <td>AB/AH32</td>\n",
       "      <td>미국</td>\n",
       "      <td>C</td>\n",
       "      <td>17</td>\n",
       "      <td>3400</td>\n",
       "      <td>43700</td>\n",
       "      <td>적용</td>\n",
       "      <td>2호기</td>\n",
       "      <td>2열</td>\n",
       "      <td>1169</td>\n",
       "      <td>65</td>\n",
       "      <td>77</td>\n",
       "      <td>227</td>\n",
       "      <td>1163</td>\n",
       "      <td>CR(제어압연)</td>\n",
       "      <td>948</td>\n",
       "      <td>10</td>\n",
       "      <td>4조</td>\n",
       "    </tr>\n",
       "    <tr>\n",
       "      <th>992</th>\n",
       "      <td>998</td>\n",
       "      <td>0</td>\n",
       "      <td>NV-A32</td>\n",
       "      <td>영국</td>\n",
       "      <td>C</td>\n",
       "      <td>17</td>\n",
       "      <td>3400</td>\n",
       "      <td>43700</td>\n",
       "      <td>적용</td>\n",
       "      <td>2호기</td>\n",
       "      <td>2열</td>\n",
       "      <td>1169</td>\n",
       "      <td>65</td>\n",
       "      <td>77</td>\n",
       "      <td>204</td>\n",
       "      <td>1163</td>\n",
       "      <td>CR(제어압연)</td>\n",
       "      <td>948</td>\n",
       "      <td>10</td>\n",
       "      <td>4조</td>\n",
       "    </tr>\n",
       "    <tr>\n",
       "      <th>993</th>\n",
       "      <td>999</td>\n",
       "      <td>0</td>\n",
       "      <td>GL-A32</td>\n",
       "      <td>독일</td>\n",
       "      <td>C</td>\n",
       "      <td>16</td>\n",
       "      <td>3400</td>\n",
       "      <td>54200</td>\n",
       "      <td>적용</td>\n",
       "      <td>3호기</td>\n",
       "      <td>1열</td>\n",
       "      <td>1186</td>\n",
       "      <td>82</td>\n",
       "      <td>45</td>\n",
       "      <td>208</td>\n",
       "      <td>1169</td>\n",
       "      <td>CR(제어압연)</td>\n",
       "      <td>957</td>\n",
       "      <td>10</td>\n",
       "      <td>4조</td>\n",
       "    </tr>\n",
       "  </tbody>\n",
       "</table>\n",
       "<p>994 rows × 20 columns</p>\n",
       "</div>"
      ],
      "text/plain": [
       "     index  scale   spec_long spec_country steel_kind  pt_thick  pt_width  \\\n",
       "0        0      0  AB/EH32-TM           미국          T        32      3700   \n",
       "1        1      0  AB/EH32-TM           미국          T        32      3700   \n",
       "2        2      0   NV-E36-TM           영국          T        33      3600   \n",
       "3        3      0   NV-E36-TM           영국          T        33      3600   \n",
       "4        4      0  BV-EH36-TM          프랑스          T        38      3100   \n",
       "..     ...    ...         ...          ...        ...       ...       ...   \n",
       "989    995      0        BV-A          프랑스          C        19      3400   \n",
       "990    996      0        LR-A           영국          C        19      3400   \n",
       "991    997      0     AB/AH32           미국          C        17      3400   \n",
       "992    998      0      NV-A32           영국          C        17      3400   \n",
       "993    999      0      GL-A32           독일          C        16      3400   \n",
       "\n",
       "     pt_length hsb fur_no fur_input_row  fur_heat_temp  fur_heat_time  \\\n",
       "0        15100  적용    1호기            1열           1144            116   \n",
       "1        15100  적용    1호기            2열           1144            122   \n",
       "2        19200  적용    2호기            1열           1129            116   \n",
       "3        19200  적용    2호기            2열           1152            125   \n",
       "4        13300  적용    3호기            1열           1140            134   \n",
       "..         ...  ..    ...           ...            ...            ...   \n",
       "989      41500  적용    1호기            2열           1142             55   \n",
       "990      41500  적용    1호기            2열           1142             55   \n",
       "991      43700  적용    2호기            2열           1169             65   \n",
       "992      43700  적용    2호기            2열           1169             65   \n",
       "993      54200  적용    3호기            1열           1186             82   \n",
       "\n",
       "     fur_soak_time  fur_total_time  fur_ex_temp rolling_method  rolling_temp  \\\n",
       "0               59             259         1133     TMCP(온도제어)           934   \n",
       "1               53             238         1135     TMCP(온도제어)           937   \n",
       "2               55             258         1121     TMCP(온도제어)           889   \n",
       "3               68             266         1127     TMCP(온도제어)           885   \n",
       "4               48             246         1128     TMCP(온도제어)           873   \n",
       "..             ...             ...          ...            ...           ...   \n",
       "989             86             203         1151       CR(제어압연)           948   \n",
       "990             86             209         1151       CR(제어압연)           948   \n",
       "991             77             227         1163       CR(제어압연)           948   \n",
       "992             77             204         1163       CR(제어압연)           948   \n",
       "993             45             208         1169       CR(제어압연)           957   \n",
       "\n",
       "     descaling_count work_group  \n",
       "0                  8         1조  \n",
       "1                  8         1조  \n",
       "2                  8         1조  \n",
       "3                  8         1조  \n",
       "4                  8         1조  \n",
       "..               ...        ...  \n",
       "989               10         4조  \n",
       "990               10         4조  \n",
       "991               10         4조  \n",
       "992               10         4조  \n",
       "993               10         4조  \n",
       "\n",
       "[994 rows x 20 columns]"
      ]
     },
     "execution_count": 171,
     "metadata": {},
     "output_type": "execute_result"
    }
   ],
   "source": [
    "df_raw = df_raw.drop(labels='fur_soak_temp', axis= 1)\n",
    "df_raw"
   ]
  },
  {
   "attachments": {},
   "cell_type": "markdown",
   "metadata": {},
   "source": [
    "### 히스토그램 - 양품/불량 기준(연속형 데이터)"
   ]
  },
  {
   "cell_type": "code",
   "execution_count": 172,
   "metadata": {},
   "outputs": [
    {
     "name": "stdout",
     "output_type": "stream",
     "text": [
      "<class 'pandas.core.frame.DataFrame'>\n",
      "RangeIndex: 994 entries, 0 to 993\n",
      "Data columns (total 20 columns):\n",
      " #   Column           Non-Null Count  Dtype   \n",
      "---  ------           --------------  -----   \n",
      " 0   index            994 non-null    int64   \n",
      " 1   scale            994 non-null    int64   \n",
      " 2   spec_long        994 non-null    category\n",
      " 3   spec_country     994 non-null    category\n",
      " 4   steel_kind       994 non-null    category\n",
      " 5   pt_thick         994 non-null    int64   \n",
      " 6   pt_width         994 non-null    int64   \n",
      " 7   pt_length        994 non-null    int64   \n",
      " 8   hsb              994 non-null    category\n",
      " 9   fur_no           994 non-null    category\n",
      " 10  fur_input_row    994 non-null    category\n",
      " 11  fur_heat_temp    994 non-null    int64   \n",
      " 12  fur_heat_time    994 non-null    int64   \n",
      " 13  fur_soak_time    994 non-null    int64   \n",
      " 14  fur_total_time   994 non-null    int64   \n",
      " 15  fur_ex_temp      994 non-null    int64   \n",
      " 16  rolling_method   994 non-null    category\n",
      " 17  rolling_temp     994 non-null    int64   \n",
      " 18  descaling_count  994 non-null    int64   \n",
      " 19  work_group       994 non-null    category\n",
      "dtypes: category(8), int64(12)\n",
      "memory usage: 104.8 KB\n"
     ]
    }
   ],
   "source": [
    "df_raw.info()"
   ]
  },
  {
   "attachments": {},
   "cell_type": "markdown",
   "metadata": {},
   "source": [
    "### 후판 두께"
   ]
  },
  {
   "cell_type": "code",
   "execution_count": 173,
   "metadata": {},
   "outputs": [
    {
     "data": {
      "text/plain": [
       "<AxesSubplot: xlabel='pt_thick', ylabel='Count'>"
      ]
     },
     "execution_count": 173,
     "metadata": {},
     "output_type": "execute_result"
    },
    {
     "data": {
      "image/png": "[encoded data removed]",
      "text/plain": [
       "<Figure size 432x288 with 1 Axes>"
      ]
     },
     "metadata": {
      "needs_background": "light"
     },
     "output_type": "display_data"
    }
   ],
   "source": [
    "sns.histplot(data = df_raw, x = 'pt_thick', hue = 'scale')"
   ]
  },
  {
   "attachments": {},
   "cell_type": "markdown",
   "metadata": {},
   "source": [
    "### 후판 지시폭"
   ]
  },
  {
   "cell_type": "code",
   "execution_count": 174,
   "metadata": {},
   "outputs": [
    {
     "data": {
      "text/plain": [
       "<AxesSubplot: xlabel='pt_width', ylabel='Count'>"
      ]
     },
     "execution_count": 174,
     "metadata": {},
     "output_type": "execute_result"
    },
    {
     "data": {
      "image/png": "[encoded data removed]",
      "text/plain": [
       "<Figure size 432x288 with 1 Axes>"
      ]
     },
     "metadata": {
      "needs_background": "light"
     },
     "output_type": "display_data"
    }
   ],
   "source": [
    "sns.histplot(data = df_raw, x = 'pt_width', hue = 'scale')"
   ]
  },
  {
   "attachments": {},
   "cell_type": "markdown",
   "metadata": {},
   "source": [
    "### 후판 지시길이"
   ]
  },
  {
   "cell_type": "code",
   "execution_count": 175,
   "metadata": {},
   "outputs": [
    {
     "data": {
      "text/plain": [
       "<AxesSubplot: xlabel='pt_length', ylabel='Count'>"
      ]
     },
     "execution_count": 175,
     "metadata": {},
     "output_type": "execute_result"
    },
    {
     "data": {
      "image/png": "[encoded data removed]",
      "text/plain": [
       "<Figure size 432x288 with 1 Axes>"
      ]
     },
     "metadata": {
      "needs_background": "light"
     },
     "output_type": "display_data"
    }
   ],
   "source": [
    "sns.histplot(data = df_raw, x = 'pt_length', hue = 'scale')"
   ]
  },
  {
   "attachments": {},
   "cell_type": "markdown",
   "metadata": {},
   "source": [
    "### 후판 가열대 소재온도"
   ]
  },
  {
   "cell_type": "code",
   "execution_count": 176,
   "metadata": {},
   "outputs": [
    {
     "data": {
      "text/plain": [
       "<AxesSubplot: xlabel='fur_heat_temp', ylabel='Count'>"
      ]
     },
     "execution_count": 176,
     "metadata": {},
     "output_type": "execute_result"
    },
    {
     "data": {
      "image/png": "[encoded data removed]",
      "text/plain": [
       "<Figure size 432x288 with 1 Axes>"
      ]
     },
     "metadata": {
      "needs_background": "light"
     },
     "output_type": "display_data"
    }
   ],
   "source": [
    "sns.histplot(data = df_raw, x = 'fur_heat_temp', hue = 'scale')"
   ]
  },
  {
   "attachments": {},
   "cell_type": "markdown",
   "metadata": {},
   "source": [
    "### 가열대 재로시간"
   ]
  },
  {
   "cell_type": "code",
   "execution_count": 177,
   "metadata": {},
   "outputs": [
    {
     "data": {
      "text/plain": [
       "<AxesSubplot: xlabel='fur_heat_time', ylabel='Count'>"
      ]
     },
     "execution_count": 177,
     "metadata": {},
     "output_type": "execute_result"
    },
    {
     "data": {
      "image/png": "[encoded data removed]",
      "text/plain": [
       "<Figure size 432x288 with 1 Axes>"
      ]
     },
     "metadata": {
      "needs_background": "light"
     },
     "output_type": "display_data"
    }
   ],
   "source": [
    "sns.histplot(data = df_raw, x = 'fur_heat_time', hue = 'scale')"
   ]
  },
  {
   "attachments": {},
   "cell_type": "markdown",
   "metadata": {},
   "source": [
    "### 균열대 소재온도"
   ]
  },
  {
   "cell_type": "code",
   "execution_count": 178,
   "metadata": {},
   "outputs": [
    {
     "data": {
      "text/plain": [
       "<AxesSubplot: xlabel='fur_soak_time', ylabel='Count'>"
      ]
     },
     "execution_count": 178,
     "metadata": {},
     "output_type": "execute_result"
    },
    {
     "data": {
      "image/png": "[encoded data removed]",
      "text/plain": [
       "<Figure size 432x288 with 1 Axes>"
      ]
     },
     "metadata": {
      "needs_background": "light"
     },
     "output_type": "display_data"
    }
   ],
   "source": [
    "sns.histplot(data = df_raw, x = 'fur_soak_time', hue = 'scale')"
   ]
  },
  {
   "attachments": {},
   "cell_type": "markdown",
   "metadata": {},
   "source": [
    "### 총 재로시간"
   ]
  },
  {
   "cell_type": "code",
   "execution_count": 179,
   "metadata": {},
   "outputs": [
    {
     "data": {
      "text/plain": [
       "<AxesSubplot: xlabel='fur_total_time', ylabel='Count'>"
      ]
     },
     "execution_count": 179,
     "metadata": {},
     "output_type": "execute_result"
    },
    {
     "data": {
      "image/png": "[encoded data removed]",
      "text/plain": [
       "<Figure size 432x288 with 1 Axes>"
      ]
     },
     "metadata": {
      "needs_background": "light"
     },
     "output_type": "display_data"
    }
   ],
   "source": [
    "sns.histplot(data = df_raw, x = 'fur_total_time', hue = 'scale')"
   ]
  },
  {
   "attachments": {},
   "cell_type": "markdown",
   "metadata": {},
   "source": [
    "### 가열로 추출온도"
   ]
  },
  {
   "cell_type": "code",
   "execution_count": 180,
   "metadata": {},
   "outputs": [
    {
     "data": {
      "text/plain": [
       "<AxesSubplot: xlabel='fur_ex_temp', ylabel='Count'>"
      ]
     },
     "execution_count": 180,
     "metadata": {},
     "output_type": "execute_result"
    },
    {
     "data": {
      "image/png": "[encoded data removed]",
      "text/plain": [
       "<Figure size 432x288 with 1 Axes>"
      ]
     },
     "metadata": {
      "needs_background": "light"
     },
     "output_type": "display_data"
    }
   ],
   "source": [
    "sns.histplot(data = df_raw, x = 'fur_ex_temp', hue = 'scale')"
   ]
  },
  {
   "attachments": {},
   "cell_type": "markdown",
   "metadata": {},
   "source": [
    "### 압연온도"
   ]
  },
  {
   "cell_type": "code",
   "execution_count": 181,
   "metadata": {},
   "outputs": [
    {
     "data": {
      "text/plain": [
       "<AxesSubplot: xlabel='rolling_temp', ylabel='Count'>"
      ]
     },
     "execution_count": 181,
     "metadata": {},
     "output_type": "execute_result"
    },
    {
     "data": {
      "image/png": "[encoded data removed]",
      "text/plain": [
       "<Figure size 432x288 with 1 Axes>"
      ]
     },
     "metadata": {
      "needs_background": "light"
     },
     "output_type": "display_data"
    }
   ],
   "source": [
    "sns.histplot(data = df_raw, x = 'rolling_temp', hue = 'scale')"
   ]
  },
  {
   "attachments": {},
   "cell_type": "markdown",
   "metadata": {},
   "source": [
    "### 압연 횟수\n"
   ]
  },
  {
   "cell_type": "code",
   "execution_count": 202,
   "metadata": {},
   "outputs": [
    {
     "data": {
      "text/plain": [
       "<AxesSubplot: xlabel='descaling_count', ylabel='Count'>"
      ]
     },
     "execution_count": 202,
     "metadata": {},
     "output_type": "execute_result"
    },
    {
     "data": {
      "image/png": "[encoded data removed]",
      "text/plain": [
       "<Figure size 432x288 with 1 Axes>"
      ]
     },
     "metadata": {
      "needs_background": "light"
     },
     "output_type": "display_data"
    }
   ],
   "source": [
    "sns.histplot(data = df_raw, x = 'descaling_count', hue = 'scale')"
   ]
  },
  {
   "attachments": {},
   "cell_type": "markdown",
   "metadata": {},
   "source": [
    "- 압연 온도가 스케일 발생의 핵심적인 요인으로 보인다.\n"
   ]
  },
  {
   "attachments": {},
   "cell_type": "markdown",
   "metadata": {},
   "source": [
    "#### 작업조"
   ]
  },
  {
   "cell_type": "code",
   "execution_count": 207,
   "metadata": {},
   "outputs": [
    {
     "data": {
      "text/html": [
       "<div>\n",
       "<style scoped>\n",
       "    .dataframe tbody tr th:only-of-type {\n",
       "        vertical-align: middle;\n",
       "    }\n",
       "\n",
       "    .dataframe tbody tr th {\n",
       "        vertical-align: top;\n",
       "    }\n",
       "\n",
       "    .dataframe thead th {\n",
       "        text-align: right;\n",
       "    }\n",
       "</style>\n",
       "<table border=\"1\" class=\"dataframe\">\n",
       "  <thead>\n",
       "    <tr style=\"text-align: right;\">\n",
       "      <th>work_group</th>\n",
       "      <th>1조</th>\n",
       "      <th>2조</th>\n",
       "      <th>3조</th>\n",
       "      <th>4조</th>\n",
       "      <th>All</th>\n",
       "    </tr>\n",
       "    <tr>\n",
       "      <th>scale</th>\n",
       "      <th></th>\n",
       "      <th></th>\n",
       "      <th></th>\n",
       "      <th></th>\n",
       "      <th></th>\n",
       "    </tr>\n",
       "  </thead>\n",
       "  <tbody>\n",
       "    <tr>\n",
       "      <th>0</th>\n",
       "      <td>171</td>\n",
       "      <td>207</td>\n",
       "      <td>152</td>\n",
       "      <td>160</td>\n",
       "      <td>690</td>\n",
       "    </tr>\n",
       "    <tr>\n",
       "      <th>1</th>\n",
       "      <td>109</td>\n",
       "      <td>85</td>\n",
       "      <td>66</td>\n",
       "      <td>50</td>\n",
       "      <td>310</td>\n",
       "    </tr>\n",
       "    <tr>\n",
       "      <th>All</th>\n",
       "      <td>280</td>\n",
       "      <td>292</td>\n",
       "      <td>218</td>\n",
       "      <td>210</td>\n",
       "      <td>1000</td>\n",
       "    </tr>\n",
       "  </tbody>\n",
       "</table>\n",
       "</div>"
      ],
      "text/plain": [
       "work_group   1조   2조   3조   4조   All\n",
       "scale                               \n",
       "0           171  207  152  160   690\n",
       "1           109   85   66   50   310\n",
       "All         280  292  218  210  1000"
      ]
     },
     "execution_count": 207,
     "metadata": {},
     "output_type": "execute_result"
    }
   ],
   "source": [
    "pd.crosstab(df_raw[\"scale\"], df_raw['work_group'], margins=True)\n"
   ]
  },
  {
   "attachments": {},
   "cell_type": "markdown",
   "metadata": {},
   "source": [
    "- 조별로 양품과 불량률에 차이가 크게 없어 보이기에 이번 분석에서는 사용하지 않는다."
   ]
  },
  {
   "attachments": {},
   "cell_type": "markdown",
   "metadata": {},
   "source": [
    "#### HSB(HSB적용 유무 1- 불량, 0 - 양품)"
   ]
  },
  {
   "cell_type": "code",
   "execution_count": 208,
   "metadata": {},
   "outputs": [
    {
     "data": {
      "text/html": [
       "<div>\n",
       "<style scoped>\n",
       "    .dataframe tbody tr th:only-of-type {\n",
       "        vertical-align: middle;\n",
       "    }\n",
       "\n",
       "    .dataframe tbody tr th {\n",
       "        vertical-align: top;\n",
       "    }\n",
       "\n",
       "    .dataframe thead th {\n",
       "        text-align: right;\n",
       "    }\n",
       "</style>\n",
       "<table border=\"1\" class=\"dataframe\">\n",
       "  <thead>\n",
       "    <tr style=\"text-align: right;\">\n",
       "      <th>hsb</th>\n",
       "      <th>미적용</th>\n",
       "      <th>적용</th>\n",
       "      <th>All</th>\n",
       "    </tr>\n",
       "    <tr>\n",
       "      <th>scale</th>\n",
       "      <th></th>\n",
       "      <th></th>\n",
       "      <th></th>\n",
       "    </tr>\n",
       "  </thead>\n",
       "  <tbody>\n",
       "    <tr>\n",
       "      <th>0</th>\n",
       "      <td>0</td>\n",
       "      <td>690</td>\n",
       "      <td>690</td>\n",
       "    </tr>\n",
       "    <tr>\n",
       "      <th>1</th>\n",
       "      <td>47</td>\n",
       "      <td>263</td>\n",
       "      <td>310</td>\n",
       "    </tr>\n",
       "    <tr>\n",
       "      <th>All</th>\n",
       "      <td>47</td>\n",
       "      <td>953</td>\n",
       "      <td>1000</td>\n",
       "    </tr>\n",
       "  </tbody>\n",
       "</table>\n",
       "</div>"
      ],
      "text/plain": [
       "hsb    미적용   적용   All\n",
       "scale                \n",
       "0        0  690   690\n",
       "1       47  263   310\n",
       "All     47  953  1000"
      ]
     },
     "execution_count": 208,
     "metadata": {},
     "output_type": "execute_result"
    }
   ],
   "source": [
    "pd.crosstab(df_raw[\"scale\"], df_raw['hsb'], margins=True)\n"
   ]
  },
  {
   "attachments": {},
   "cell_type": "markdown",
   "metadata": {},
   "source": [
    "- HSB미적용시 모두 불량임을 확인할 수 있다.\n",
    "- hsb 적용 유무와 스케일 발생과는 유의미한 차이가 있어보인다."
   ]
  },
  {
   "attachments": {},
   "cell_type": "markdown",
   "metadata": {},
   "source": [
    "#### 강종 별"
   ]
  },
  {
   "cell_type": "code",
   "execution_count": 209,
   "metadata": {},
   "outputs": [
    {
     "data": {
      "text/html": [
       "<div>\n",
       "<style scoped>\n",
       "    .dataframe tbody tr th:only-of-type {\n",
       "        vertical-align: middle;\n",
       "    }\n",
       "\n",
       "    .dataframe tbody tr th {\n",
       "        vertical-align: top;\n",
       "    }\n",
       "\n",
       "    .dataframe thead th {\n",
       "        text-align: right;\n",
       "    }\n",
       "</style>\n",
       "<table border=\"1\" class=\"dataframe\">\n",
       "  <thead>\n",
       "    <tr style=\"text-align: right;\">\n",
       "      <th>steel_kind</th>\n",
       "      <th>C</th>\n",
       "      <th>T</th>\n",
       "      <th>All</th>\n",
       "    </tr>\n",
       "    <tr>\n",
       "      <th>scale</th>\n",
       "      <th></th>\n",
       "      <th></th>\n",
       "      <th></th>\n",
       "    </tr>\n",
       "  </thead>\n",
       "  <tbody>\n",
       "    <tr>\n",
       "      <th>0</th>\n",
       "      <td>465</td>\n",
       "      <td>225</td>\n",
       "      <td>690</td>\n",
       "    </tr>\n",
       "    <tr>\n",
       "      <th>1</th>\n",
       "      <td>290</td>\n",
       "      <td>20</td>\n",
       "      <td>310</td>\n",
       "    </tr>\n",
       "    <tr>\n",
       "      <th>All</th>\n",
       "      <td>755</td>\n",
       "      <td>245</td>\n",
       "      <td>1000</td>\n",
       "    </tr>\n",
       "  </tbody>\n",
       "</table>\n",
       "</div>"
      ],
      "text/plain": [
       "steel_kind    C    T   All\n",
       "scale                     \n",
       "0           465  225   690\n",
       "1           290   20   310\n",
       "All         755  245  1000"
      ]
     },
     "execution_count": 209,
     "metadata": {},
     "output_type": "execute_result"
    }
   ],
   "source": [
    "pd.crosstab(df_raw[\"scale\"], df_raw['steel_kind'], margins=True)\n"
   ]
  },
  {
   "attachments": {},
   "cell_type": "markdown",
   "metadata": {},
   "source": [
    "- c종에서 많은 스케일이 발생한 것을 확인했다.\n",
    "- 강종별로 스케일 발생의 유의미한 차이가 있을 것으로 보인다."
   ]
  },
  {
   "attachments": {},
   "cell_type": "markdown",
   "metadata": {},
   "source": [
    "###"
   ]
  },
  {
   "attachments": {},
   "cell_type": "markdown",
   "metadata": {},
   "source": [
    "## 2. 모델링 기법"
   ]
  },
  {
   "attachments": {},
   "cell_type": "markdown",
   "metadata": {},
   "source": [
    "# 1. 로지스틱 회귀분석"
   ]
  },
  {
   "attachments": {},
   "cell_type": "markdown",
   "metadata": {},
   "source": [
    "### 데이터 분할"
   ]
  },
  {
   "cell_type": "code",
   "execution_count": 210,
   "metadata": {},
   "outputs": [
    {
     "name": "stdout",
     "output_type": "stream",
     "text": [
      "train data size: (700, 20)\n",
      "Test data size: (300, 20)\n"
     ]
    }
   ],
   "source": [
    "df_train, df_test = train_test_split(df_raw,\n",
    "                                     test_size =0.3, random_state=1234)\n",
    "\n",
    "print(\"train data size: {}\".format(df_train.shape))\n",
    "print(\"Test data size: {}\".format(df_test.shape))"
   ]
  },
  {
   "cell_type": "code",
   "execution_count": 211,
   "metadata": {},
   "outputs": [
    {
     "name": "stdout",
     "output_type": "stream",
     "text": [
      "Optimization terminated successfully.\n",
      "         Current function value: 0.392153\n",
      "         Iterations 7\n",
      "                           Logit Regression Results                           \n",
      "==============================================================================\n",
      "Dep. Variable:                  scale   No. Observations:                  700\n",
      "Model:                          Logit   Df Residuals:                      684\n",
      "Method:                           MLE   Df Model:                           15\n",
      "Date:                Tue, 23 May 2023   Pseudo R-squ.:                  0.3654\n",
      "Time:                        23:43:09   Log-Likelihood:                -274.51\n",
      "converged:                       True   LL-Null:                       -432.57\n",
      "Covariance Type:            nonrobust   LLR p-value:                 2.476e-58\n",
      "================================================================================================\n",
      "                                   coef    std err          z      P>|z|      [0.025      0.975]\n",
      "------------------------------------------------------------------------------------------------\n",
      "Intercept                      -88.5905     17.373     -5.099      0.000    -122.640     -54.541\n",
      "steel_kind[T.T]                 -1.9006      1.039     -1.830      0.067      -3.936       0.135\n",
      "fur_no[T.2호기]                   -0.1147      0.271     -0.424      0.672      -0.645       0.416\n",
      "fur_no[T.3호기]                    0.0320      0.273      0.118      0.906      -0.502       0.566\n",
      "fur_input_row[T.2열]             -0.1245      0.217     -0.573      0.567      -0.551       0.302\n",
      "rolling_method[T.TMCP(온도제어)]     0.5312      0.622      0.854      0.393      -0.688       1.750\n",
      "pt_thick                         0.0005      0.021      0.022      0.983      -0.041       0.042\n",
      "pt_width                        -0.0007      0.000     -2.595      0.009      -0.001      -0.000\n",
      "pt_length                    -2.595e-05   1.98e-05     -1.312      0.189   -6.47e-05    1.28e-05\n",
      "fur_heat_temp                    0.0174      0.011      1.609      0.108      -0.004       0.039\n",
      "fur_heat_time                    0.0188      0.009      2.116      0.034       0.001       0.036\n",
      "fur_soak_temp                    0.0504      0.021      2.350      0.019       0.008       0.092\n",
      "fur_soak_time                    0.0120      0.011      1.071      0.284      -0.010       0.034\n",
      "fur_total_time                  -0.0039      0.007     -0.534      0.594      -0.018       0.010\n",
      "rolling_temp                     0.0183      0.004      5.151      0.000       0.011       0.025\n",
      "descaling_count                 -0.7085      0.142     -4.985      0.000      -0.987      -0.430\n",
      "================================================================================================\n"
     ]
    }
   ],
   "source": [
    "log_model = Logit.from_formula(\"scale ~ steel_kind + pt_thick + pt_width + pt_length\"\n",
    "                               \"+ fur_no + fur_input_row + fur_heat_temp + fur_heat_time + fur_soak_temp\"\n",
    "                               \"+ fur_soak_time + fur_total_time + rolling_method + rolling_temp + descaling_count\", df_train)\n",
    "log_result = log_model.fit()\n",
    "print(log_result.summary())"
   ]
  },
  {
   "attachments": {},
   "cell_type": "markdown",
   "metadata": {},
   "source": []
  },
  {
   "attachments": {},
   "cell_type": "markdown",
   "metadata": {},
   "source": [
    "설명력이 36.5%정도로 매우 낮기 떄문에 회귀분석은 사용하지 않는다."
   ]
  },
  {
   "attachments": {},
   "cell_type": "markdown",
   "metadata": {},
   "source": [
    "# 2. 의사결정나무"
   ]
  },
  {
   "cell_type": "code",
   "execution_count": 216,
   "metadata": {},
   "outputs": [
    {
     "data": {
      "text/plain": [
       "((1000, 19), (1000,))"
      ]
     },
     "execution_count": 216,
     "metadata": {},
     "output_type": "execute_result"
    }
   ],
   "source": [
    "df_raw_y = df_raw[\"scale\"]\n",
    "df_raw_x = df_raw.drop(\"scale\",axis = 1, inplace = False)\n",
    "df_raw_x.shape, df_raw_y.shape"
   ]
  },
  {
   "attachments": {},
   "cell_type": "markdown",
   "metadata": {},
   "source": [
    "### 더미변수 생성"
   ]
  },
  {
   "cell_type": "code",
   "execution_count": 213,
   "metadata": {},
   "outputs": [
    {
     "data": {
      "text/plain": [
       "(1000, 99)"
      ]
     },
     "execution_count": 213,
     "metadata": {},
     "output_type": "execute_result"
    }
   ],
   "source": [
    "df_raw_x_dummy = pd.get_dummies(df_raw_x)\n",
    "df_raw_x_dummy.head()\n",
    "df_raw_x_dummy.shape"
   ]
  },
  {
   "attachments": {},
   "cell_type": "markdown",
   "metadata": {},
   "source": [
    "### 데이터 분할"
   ]
  },
  {
   "cell_type": "code",
   "execution_count": 217,
   "metadata": {},
   "outputs": [
    {
     "name": "stdout",
     "output_type": "stream",
     "text": [
      "train dzta X size : (700, 99)\n",
      "train dzta Y size : (700,)\n",
      "test dzta X size : (300, 99)\n",
      "test dzta Y size : (300,)\n"
     ]
    }
   ],
   "source": [
    "df_train_x, df_test_x, df_train_y, df_test_y = train_test_split(df_raw_x_dummy, df_raw_y, test_size=0.3, random_state=1234)\n",
    "\n",
    "print(\"train dzta X size : {}\".format(df_train_x.shape))\n",
    "print(\"train dzta Y size : {}\".format(df_train_y.shape))\n",
    "print(\"test dzta X size : {}\".format(df_test_x.shape))\n",
    "print(\"test dzta Y size : {}\".format(df_test_y.shape))"
   ]
  },
  {
   "cell_type": "code",
   "execution_count": 218,
   "metadata": {},
   "outputs": [
    {
     "name": "stdout",
     "output_type": "stream",
     "text": [
      "Accuracy on training set: 1.000\n",
      "Accuracy on test set: 0.990\n"
     ]
    }
   ],
   "source": [
    "tree_uncustomized = DecisionTreeClassifier(random_state = 1234)\n",
    "tree_uncustomized.fit(df_train_x, df_train_y)\n",
    "\n",
    "print(\"Accuracy on training set: {:.3f}\".format(tree_uncustomized.score(df_train_x, df_train_y)))\n",
    "print(\"Accuracy on test set: {:.3f}\".format(tree_uncustomized.score(df_test_x, df_test_y)))"
   ]
  },
  {
   "cell_type": "code",
   "execution_count": 219,
   "metadata": {},
   "outputs": [
    {
     "name": "stdout",
     "output_type": "stream",
     "text": [
      "Best Parameters:  {'max_depth': 15, 'min_samples_leaf': 2, 'min_samples_split': 4}\n",
      "Best Score:  0.9800000000000001\n",
      "Test Accuracy:  0.99\n"
     ]
    }
   ],
   "source": [
    "dt = DecisionTreeClassifier()\n",
    "\n",
    "# 탐색할 매개변수 그리드 설정\n",
    "param_grid = {\n",
    "    \"max_depth\": range(2, 20),\n",
    "    \"min_samples_split\": range(2, 40, 2),\n",
    "    \"min_samples_leaf\": range(2, 20, 2)\n",
    "}\n",
    "\n",
    "# GridSearchCV를 사용하여 최적 매개변수 탐색\n",
    "grid_search = GridSearchCV(dt, param_grid,scoring = \"accuracy\", n_jobs = -1)\n",
    "grid_search.fit(df_train_x, df_train_y)\n",
    "\n",
    "# 최적 매개변수 및 모델 출력\n",
    "print(\"Best Parameters: \", grid_search.best_params_)\n",
    "print(\"Best Score: \", grid_search.best_score_)\n",
    "best_model = grid_search.best_estimator_\n",
    "\n",
    "accuracy = best_model.score(df_test_x, df_test_y)\n",
    "print(\"Test Accuracy: \", accuracy)"
   ]
  },
  {
   "cell_type": "code",
   "execution_count": 220,
   "metadata": {},
   "outputs": [
    {
     "data": {
      "text/html": [
       "<style>#sk-container-id-1 {color: black;background-color: white;}#sk-container-id-1 pre{padding: 0;}#sk-container-id-1 div.sk-toggleable {background-color: white;}#sk-container-id-1 label.sk-toggleable__label {cursor: pointer;display: block;width: 100%;margin-bottom: 0;padding: 0.3em;box-sizing: border-box;text-align: center;}#sk-container-id-1 label.sk-toggleable__label-arrow:before {content: \"▸\";float: left;margin-right: 0.25em;color: #696969;}#sk-container-id-1 label.sk-toggleable__label-arrow:hover:before {color: black;}#sk-container-id-1 div.sk-estimator:hover label.sk-toggleable__label-arrow:before {color: black;}#sk-container-id-1 div.sk-toggleable__content {max-height: 0;max-width: 0;overflow: hidden;text-align: left;background-color: #f0f8ff;}#sk-container-id-1 div.sk-toggleable__content pre {margin: 0.2em;color: black;border-radius: 0.25em;background-color: #f0f8ff;}#sk-container-id-1 input.sk-toggleable__control:checked~div.sk-toggleable__content {max-height: 200px;max-width: 100%;overflow: auto;}#sk-container-id-1 input.sk-toggleable__control:checked~label.sk-toggleable__label-arrow:before {content: \"▾\";}#sk-container-id-1 div.sk-estimator input.sk-toggleable__control:checked~label.sk-toggleable__label {background-color: #d4ebff;}#sk-container-id-1 div.sk-label input.sk-toggleable__control:checked~label.sk-toggleable__label {background-color: #d4ebff;}#sk-container-id-1 input.sk-hidden--visually {border: 0;clip: rect(1px 1px 1px 1px);clip: rect(1px, 1px, 1px, 1px);height: 1px;margin: -1px;overflow: hidden;padding: 0;position: absolute;width: 1px;}#sk-container-id-1 div.sk-estimator {font-family: monospace;background-color: #f0f8ff;border: 1px dotted black;border-radius: 0.25em;box-sizing: border-box;margin-bottom: 0.5em;}#sk-container-id-1 div.sk-estimator:hover {background-color: #d4ebff;}#sk-container-id-1 div.sk-parallel-item::after {content: \"\";width: 100%;border-bottom: 1px solid gray;flex-grow: 1;}#sk-container-id-1 div.sk-label:hover label.sk-toggleable__label {background-color: #d4ebff;}#sk-container-id-1 div.sk-serial::before {content: \"\";position: absolute;border-left: 1px solid gray;box-sizing: border-box;top: 0;bottom: 0;left: 50%;z-index: 0;}#sk-container-id-1 div.sk-serial {display: flex;flex-direction: column;align-items: center;background-color: white;padding-right: 0.2em;padding-left: 0.2em;position: relative;}#sk-container-id-1 div.sk-item {position: relative;z-index: 1;}#sk-container-id-1 div.sk-parallel {display: flex;align-items: stretch;justify-content: center;background-color: white;position: relative;}#sk-container-id-1 div.sk-item::before, #sk-container-id-1 div.sk-parallel-item::before {content: \"\";position: absolute;border-left: 1px solid gray;box-sizing: border-box;top: 0;bottom: 0;left: 50%;z-index: -1;}#sk-container-id-1 div.sk-parallel-item {display: flex;flex-direction: column;z-index: 1;position: relative;background-color: white;}#sk-container-id-1 div.sk-parallel-item:first-child::after {align-self: flex-end;width: 50%;}#sk-container-id-1 div.sk-parallel-item:last-child::after {align-self: flex-start;width: 50%;}#sk-container-id-1 div.sk-parallel-item:only-child::after {width: 0;}#sk-container-id-1 div.sk-dashed-wrapped {border: 1px dashed gray;margin: 0 0.4em 0.5em 0.4em;box-sizing: border-box;padding-bottom: 0.4em;background-color: white;}#sk-container-id-1 div.sk-label label {font-family: monospace;font-weight: bold;display: inline-block;line-height: 1.2em;}#sk-container-id-1 div.sk-label-container {text-align: center;}#sk-container-id-1 div.sk-container {/* jupyter's `normalize.less` sets `[hidden] { display: none; }` but bootstrap.min.css set `[hidden] { display: none !important; }` so we also need the `!important` here to be able to override the default hidden behavior on the sphinx rendered scikit-learn.org. See: https://github.com/scikit-learn/scikit-learn/issues/21755 */display: inline-block !important;position: relative;}#sk-container-id-1 div.sk-text-repr-fallback {display: none;}</style><div id=\"sk-container-id-1\" class=\"sk-top-container\"><div class=\"sk-text-repr-fallback\"><pre>DecisionTreeClassifier(max_depth=6, min_samples_leaf=2, min_samples_split=6,\n",
       "                       random_state=1234)</pre><b>In a Jupyter environment, please rerun this cell to show the HTML representation or trust the notebook. <br />On GitHub, the HTML representation is unable to render, please try loading this page with nbviewer.org.</b></div><div class=\"sk-container\" hidden><div class=\"sk-item\"><div class=\"sk-estimator sk-toggleable\"><input class=\"sk-toggleable__control sk-hidden--visually\" id=\"sk-estimator-id-1\" type=\"checkbox\" checked><label for=\"sk-estimator-id-1\" class=\"sk-toggleable__label sk-toggleable__label-arrow\">DecisionTreeClassifier</label><div class=\"sk-toggleable__content\"><pre>DecisionTreeClassifier(max_depth=6, min_samples_leaf=2, min_samples_split=6,\n",
       "                       random_state=1234)</pre></div></div></div></div></div>"
      ],
      "text/plain": [
       "DecisionTreeClassifier(max_depth=6, min_samples_leaf=2, min_samples_split=6,\n",
       "                       random_state=1234)"
      ]
     },
     "execution_count": 220,
     "metadata": {},
     "output_type": "execute_result"
    }
   ],
   "source": [
    "tree_final = DecisionTreeClassifier(min_samples_leaf = 2,min_samples_split = 6,max_depth = 6, random_state=1234,)\n",
    "tree_final.fit(df_train_x, df_train_y)"
   ]
  },
  {
   "cell_type": "code",
   "execution_count": 240,
   "metadata": {},
   "outputs": [
    {
     "name": "stdout",
     "output_type": "stream",
     "text": [
      "Accuray: 0.993\n",
      "\n",
      "Confusion matrix:\n",
      "[[206   0]\n",
      " [ 12  82]]\n"
     ]
    }
   ],
   "source": [
    "dt_pred = tree_final.predict(df_test_x)\n",
    "\n",
    "print(\"Accuray: {0:.3f}\\n\".format(tree_final.score(df_test_x, df_test_y)))\n",
    "print(\"Confusion matrix:\\n{}\".format(confusion_matrix(df_test_y, y_pred)))"
   ]
  },
  {
   "attachments": {},
   "cell_type": "markdown",
   "metadata": {},
   "source": [
    "### 변수 중요도"
   ]
  },
  {
   "cell_type": "code",
   "execution_count": 222,
   "metadata": {},
   "outputs": [
    {
     "data": {
      "text/html": [
       "<div>\n",
       "<style scoped>\n",
       "    .dataframe tbody tr th:only-of-type {\n",
       "        vertical-align: middle;\n",
       "    }\n",
       "\n",
       "    .dataframe tbody tr th {\n",
       "        vertical-align: top;\n",
       "    }\n",
       "\n",
       "    .dataframe thead th {\n",
       "        text-align: right;\n",
       "    }\n",
       "</style>\n",
       "<table border=\"1\" class=\"dataframe\">\n",
       "  <thead>\n",
       "    <tr style=\"text-align: right;\">\n",
       "      <th></th>\n",
       "      <th>Feature</th>\n",
       "      <th>importance</th>\n",
       "    </tr>\n",
       "  </thead>\n",
       "  <tbody>\n",
       "    <tr>\n",
       "      <th>9</th>\n",
       "      <td>rolling_temp</td>\n",
       "      <td>0.554</td>\n",
       "    </tr>\n",
       "    <tr>\n",
       "      <th>86</th>\n",
       "      <td>hsb_미적용</td>\n",
       "      <td>0.155</td>\n",
       "    </tr>\n",
       "    <tr>\n",
       "      <th>5</th>\n",
       "      <td>fur_soak_temp</td>\n",
       "      <td>0.146</td>\n",
       "    </tr>\n",
       "    <tr>\n",
       "      <th>10</th>\n",
       "      <td>descaling_count</td>\n",
       "      <td>0.145</td>\n",
       "    </tr>\n",
       "    <tr>\n",
       "      <th>0</th>\n",
       "      <td>pt_thick</td>\n",
       "      <td>0.000</td>\n",
       "    </tr>\n",
       "    <tr>\n",
       "      <th>...</th>\n",
       "      <td>...</td>\n",
       "      <td>...</td>\n",
       "    </tr>\n",
       "    <tr>\n",
       "      <th>32</th>\n",
       "      <td>spec_long_GL-A32</td>\n",
       "      <td>0.000</td>\n",
       "    </tr>\n",
       "    <tr>\n",
       "      <th>31</th>\n",
       "      <td>spec_long_GL-A</td>\n",
       "      <td>0.000</td>\n",
       "    </tr>\n",
       "    <tr>\n",
       "      <th>30</th>\n",
       "      <td>spec_long_COMMON</td>\n",
       "      <td>0.000</td>\n",
       "    </tr>\n",
       "    <tr>\n",
       "      <th>29</th>\n",
       "      <td>spec_long_CCS-B</td>\n",
       "      <td>0.000</td>\n",
       "    </tr>\n",
       "    <tr>\n",
       "      <th>98</th>\n",
       "      <td>work_group_4조</td>\n",
       "      <td>0.000</td>\n",
       "    </tr>\n",
       "  </tbody>\n",
       "</table>\n",
       "<p>99 rows × 2 columns</p>\n",
       "</div>"
      ],
      "text/plain": [
       "             Feature  importance\n",
       "9       rolling_temp       0.554\n",
       "86           hsb_미적용       0.155\n",
       "5      fur_soak_temp       0.146\n",
       "10   descaling_count       0.145\n",
       "0           pt_thick       0.000\n",
       "..               ...         ...\n",
       "32  spec_long_GL-A32       0.000\n",
       "31    spec_long_GL-A       0.000\n",
       "30  spec_long_COMMON       0.000\n",
       "29   spec_long_CCS-B       0.000\n",
       "98     work_group_4조       0.000\n",
       "\n",
       "[99 rows x 2 columns]"
      ]
     },
     "execution_count": 222,
     "metadata": {},
     "output_type": "execute_result"
    }
   ],
   "source": [
    "v_feature_name = df_train_x.columns\n",
    "\n",
    "\n",
    "df_importance = pd.DataFrame()\n",
    "df_importance[\"Feature\"] = v_feature_name\n",
    "df_importance[\"importance\"] = tree_final.feature_importances_\n",
    "\n",
    "df_importance.sort_values(\"importance\", ascending=False, inplace = True)\n",
    "df_importance.round(3)"
   ]
  },
  {
   "attachments": {},
   "cell_type": "markdown",
   "metadata": {},
   "source": [
    "# 3. 랜덤포레스트"
   ]
  },
  {
   "cell_type": "code",
   "execution_count": 224,
   "metadata": {},
   "outputs": [
    {
     "name": "stdout",
     "output_type": "stream",
     "text": [
      "Accuracy on training set: 1.000\n",
      "Accuracy on test set: 0.990\n"
     ]
    }
   ],
   "source": [
    "rf_uncustomized = RandomForestClassifier(random_state = 1234)\n",
    "rf_uncustomized.fit(df_train_x, df_train_y)\n",
    "\n",
    "print(\"Accuracy on training set: {:.3f}\".format(tree_uncustomized.score(df_train_x, df_train_y)))\n",
    "print(\"Accuracy on test set: {:.3f}\".format(tree_uncustomized.score(df_test_x, df_test_y)))"
   ]
  },
  {
   "cell_type": "code",
   "execution_count": 225,
   "metadata": {},
   "outputs": [
    {
     "name": "stdout",
     "output_type": "stream",
     "text": [
      "Best Parameters:  {'max_depth': 19, 'min_samples_leaf': 2, 'min_samples_split': 14}\n",
      "Best Score:  0.9514285714285714\n",
      "Test Accuracy:  0.9633333333333334\n"
     ]
    }
   ],
   "source": [
    "dt = RandomForestClassifier()\n",
    "\n",
    "# 탐색할 매개변수 그리드 설정\n",
    "param_grid = {\n",
    "    \"max_depth\": range(2, 20),\n",
    "    \"min_samples_split\": range(2, 40, 2),\n",
    "    \"min_samples_leaf\": range(2, 20, 2)\n",
    "}\n",
    "\n",
    "# GridSearchCV를 사용하여 최적 매개변수 탐색\n",
    "grid_search = GridSearchCV(dt, param_grid,scoring = \"accuracy\", n_jobs = -1)\n",
    "grid_search.fit(df_train_x, df_train_y)\n",
    "\n",
    "# 최적 매개변수 및 모델 출력\n",
    "print(\"Best Parameters: \", grid_search.best_params_)\n",
    "print(\"Best Score: \", grid_search.best_score_)\n",
    "best_model = grid_search.best_estimator_\n",
    "\n",
    "accuracy = best_model.score(df_test_x, df_test_y)\n",
    "print(\"Test Accuracy: \", accuracy)"
   ]
  },
  {
   "cell_type": "code",
   "execution_count": 226,
   "metadata": {},
   "outputs": [
    {
     "data": {
      "text/html": [
       "<style>#sk-container-id-2 {color: black;background-color: white;}#sk-container-id-2 pre{padding: 0;}#sk-container-id-2 div.sk-toggleable {background-color: white;}#sk-container-id-2 label.sk-toggleable__label {cursor: pointer;display: block;width: 100%;margin-bottom: 0;padding: 0.3em;box-sizing: border-box;text-align: center;}#sk-container-id-2 label.sk-toggleable__label-arrow:before {content: \"▸\";float: left;margin-right: 0.25em;color: #696969;}#sk-container-id-2 label.sk-toggleable__label-arrow:hover:before {color: black;}#sk-container-id-2 div.sk-estimator:hover label.sk-toggleable__label-arrow:before {color: black;}#sk-container-id-2 div.sk-toggleable__content {max-height: 0;max-width: 0;overflow: hidden;text-align: left;background-color: #f0f8ff;}#sk-container-id-2 div.sk-toggleable__content pre {margin: 0.2em;color: black;border-radius: 0.25em;background-color: #f0f8ff;}#sk-container-id-2 input.sk-toggleable__control:checked~div.sk-toggleable__content {max-height: 200px;max-width: 100%;overflow: auto;}#sk-container-id-2 input.sk-toggleable__control:checked~label.sk-toggleable__label-arrow:before {content: \"▾\";}#sk-container-id-2 div.sk-estimator input.sk-toggleable__control:checked~label.sk-toggleable__label {background-color: #d4ebff;}#sk-container-id-2 div.sk-label input.sk-toggleable__control:checked~label.sk-toggleable__label {background-color: #d4ebff;}#sk-container-id-2 input.sk-hidden--visually {border: 0;clip: rect(1px 1px 1px 1px);clip: rect(1px, 1px, 1px, 1px);height: 1px;margin: -1px;overflow: hidden;padding: 0;position: absolute;width: 1px;}#sk-container-id-2 div.sk-estimator {font-family: monospace;background-color: #f0f8ff;border: 1px dotted black;border-radius: 0.25em;box-sizing: border-box;margin-bottom: 0.5em;}#sk-container-id-2 div.sk-estimator:hover {background-color: #d4ebff;}#sk-container-id-2 div.sk-parallel-item::after {content: \"\";width: 100%;border-bottom: 1px solid gray;flex-grow: 1;}#sk-container-id-2 div.sk-label:hover label.sk-toggleable__label {background-color: #d4ebff;}#sk-container-id-2 div.sk-serial::before {content: \"\";position: absolute;border-left: 1px solid gray;box-sizing: border-box;top: 0;bottom: 0;left: 50%;z-index: 0;}#sk-container-id-2 div.sk-serial {display: flex;flex-direction: column;align-items: center;background-color: white;padding-right: 0.2em;padding-left: 0.2em;position: relative;}#sk-container-id-2 div.sk-item {position: relative;z-index: 1;}#sk-container-id-2 div.sk-parallel {display: flex;align-items: stretch;justify-content: center;background-color: white;position: relative;}#sk-container-id-2 div.sk-item::before, #sk-container-id-2 div.sk-parallel-item::before {content: \"\";position: absolute;border-left: 1px solid gray;box-sizing: border-box;top: 0;bottom: 0;left: 50%;z-index: -1;}#sk-container-id-2 div.sk-parallel-item {display: flex;flex-direction: column;z-index: 1;position: relative;background-color: white;}#sk-container-id-2 div.sk-parallel-item:first-child::after {align-self: flex-end;width: 50%;}#sk-container-id-2 div.sk-parallel-item:last-child::after {align-self: flex-start;width: 50%;}#sk-container-id-2 div.sk-parallel-item:only-child::after {width: 0;}#sk-container-id-2 div.sk-dashed-wrapped {border: 1px dashed gray;margin: 0 0.4em 0.5em 0.4em;box-sizing: border-box;padding-bottom: 0.4em;background-color: white;}#sk-container-id-2 div.sk-label label {font-family: monospace;font-weight: bold;display: inline-block;line-height: 1.2em;}#sk-container-id-2 div.sk-label-container {text-align: center;}#sk-container-id-2 div.sk-container {/* jupyter's `normalize.less` sets `[hidden] { display: none; }` but bootstrap.min.css set `[hidden] { display: none !important; }` so we also need the `!important` here to be able to override the default hidden behavior on the sphinx rendered scikit-learn.org. See: https://github.com/scikit-learn/scikit-learn/issues/21755 */display: inline-block !important;position: relative;}#sk-container-id-2 div.sk-text-repr-fallback {display: none;}</style><div id=\"sk-container-id-2\" class=\"sk-top-container\"><div class=\"sk-text-repr-fallback\"><pre>RandomForestClassifier(max_depth=19, min_samples_leaf=2, min_samples_split=14,\n",
       "                       random_state=1234)</pre><b>In a Jupyter environment, please rerun this cell to show the HTML representation or trust the notebook. <br />On GitHub, the HTML representation is unable to render, please try loading this page with nbviewer.org.</b></div><div class=\"sk-container\" hidden><div class=\"sk-item\"><div class=\"sk-estimator sk-toggleable\"><input class=\"sk-toggleable__control sk-hidden--visually\" id=\"sk-estimator-id-2\" type=\"checkbox\" checked><label for=\"sk-estimator-id-2\" class=\"sk-toggleable__label sk-toggleable__label-arrow\">RandomForestClassifier</label><div class=\"sk-toggleable__content\"><pre>RandomForestClassifier(max_depth=19, min_samples_leaf=2, min_samples_split=14,\n",
       "                       random_state=1234)</pre></div></div></div></div></div>"
      ],
      "text/plain": [
       "RandomForestClassifier(max_depth=19, min_samples_leaf=2, min_samples_split=14,\n",
       "                       random_state=1234)"
      ]
     },
     "execution_count": 226,
     "metadata": {},
     "output_type": "execute_result"
    }
   ],
   "source": [
    "rf_final = RandomForestClassifier(min_samples_leaf = 2,min_samples_split = 14,max_depth = 19, random_state=1234,)\n",
    "rf_final.fit(df_train_x, df_train_y)"
   ]
  },
  {
   "cell_type": "code",
   "execution_count": 241,
   "metadata": {},
   "outputs": [
    {
     "name": "stdout",
     "output_type": "stream",
     "text": [
      "Accuray: 0.960\n",
      "\n",
      "Confusion matrix:\n",
      "[[206   0]\n",
      " [ 12  82]]\n"
     ]
    }
   ],
   "source": [
    "rf_pred = rf_final.predict(df_test_x)\n",
    "\n",
    "print(\"Accuray: {0:.3f}\\n\".format(rf_final.score(df_test_x, df_test_y)))\n",
    "print(\"Confusion matrix:\\n{}\".format(confusion_matrix(df_test_y, y_pred)))"
   ]
  },
  {
   "cell_type": "code",
   "execution_count": 228,
   "metadata": {},
   "outputs": [
    {
     "data": {
      "text/html": [
       "<div>\n",
       "<style scoped>\n",
       "    .dataframe tbody tr th:only-of-type {\n",
       "        vertical-align: middle;\n",
       "    }\n",
       "\n",
       "    .dataframe tbody tr th {\n",
       "        vertical-align: top;\n",
       "    }\n",
       "\n",
       "    .dataframe thead th {\n",
       "        text-align: right;\n",
       "    }\n",
       "</style>\n",
       "<table border=\"1\" class=\"dataframe\">\n",
       "  <thead>\n",
       "    <tr style=\"text-align: right;\">\n",
       "      <th></th>\n",
       "      <th>Feature</th>\n",
       "      <th>importance</th>\n",
       "    </tr>\n",
       "  </thead>\n",
       "  <tbody>\n",
       "    <tr>\n",
       "      <th>9</th>\n",
       "      <td>rolling_temp</td>\n",
       "      <td>0.554</td>\n",
       "    </tr>\n",
       "    <tr>\n",
       "      <th>86</th>\n",
       "      <td>hsb_미적용</td>\n",
       "      <td>0.155</td>\n",
       "    </tr>\n",
       "    <tr>\n",
       "      <th>5</th>\n",
       "      <td>fur_soak_temp</td>\n",
       "      <td>0.146</td>\n",
       "    </tr>\n",
       "    <tr>\n",
       "      <th>10</th>\n",
       "      <td>descaling_count</td>\n",
       "      <td>0.145</td>\n",
       "    </tr>\n",
       "    <tr>\n",
       "      <th>0</th>\n",
       "      <td>pt_thick</td>\n",
       "      <td>0.000</td>\n",
       "    </tr>\n",
       "    <tr>\n",
       "      <th>...</th>\n",
       "      <td>...</td>\n",
       "      <td>...</td>\n",
       "    </tr>\n",
       "    <tr>\n",
       "      <th>32</th>\n",
       "      <td>spec_long_GL-A32</td>\n",
       "      <td>0.000</td>\n",
       "    </tr>\n",
       "    <tr>\n",
       "      <th>31</th>\n",
       "      <td>spec_long_GL-A</td>\n",
       "      <td>0.000</td>\n",
       "    </tr>\n",
       "    <tr>\n",
       "      <th>30</th>\n",
       "      <td>spec_long_COMMON</td>\n",
       "      <td>0.000</td>\n",
       "    </tr>\n",
       "    <tr>\n",
       "      <th>29</th>\n",
       "      <td>spec_long_CCS-B</td>\n",
       "      <td>0.000</td>\n",
       "    </tr>\n",
       "    <tr>\n",
       "      <th>98</th>\n",
       "      <td>work_group_4조</td>\n",
       "      <td>0.000</td>\n",
       "    </tr>\n",
       "  </tbody>\n",
       "</table>\n",
       "<p>99 rows × 2 columns</p>\n",
       "</div>"
      ],
      "text/plain": [
       "             Feature  importance\n",
       "9       rolling_temp       0.554\n",
       "86           hsb_미적용       0.155\n",
       "5      fur_soak_temp       0.146\n",
       "10   descaling_count       0.145\n",
       "0           pt_thick       0.000\n",
       "..               ...         ...\n",
       "32  spec_long_GL-A32       0.000\n",
       "31    spec_long_GL-A       0.000\n",
       "30  spec_long_COMMON       0.000\n",
       "29   spec_long_CCS-B       0.000\n",
       "98     work_group_4조       0.000\n",
       "\n",
       "[99 rows x 2 columns]"
      ]
     },
     "execution_count": 228,
     "metadata": {},
     "output_type": "execute_result"
    }
   ],
   "source": [
    "v_feature_name = df_train_x.columns\n",
    "\n",
    "\n",
    "df_importance = pd.DataFrame()\n",
    "df_importance[\"Feature\"] = v_feature_name\n",
    "df_importance[\"importance\"] = tree_final.feature_importances_\n",
    "\n",
    "df_importance.sort_values(\"importance\", ascending=False, inplace = True)\n",
    "df_importance.round(3)"
   ]
  },
  {
   "attachments": {},
   "cell_type": "markdown",
   "metadata": {},
   "source": [
    "# 4. 그레디언트 부스팅"
   ]
  },
  {
   "cell_type": "code",
   "execution_count": 229,
   "metadata": {},
   "outputs": [
    {
     "name": "stdout",
     "output_type": "stream",
     "text": [
      "Accuracy on training set: 1.000\n",
      "Accuracy on test set: 0.997\n"
     ]
    }
   ],
   "source": [
    "gb_uncustomized = GradientBoostingClassifier(random_state = 1234)\n",
    "gb_uncustomized.fit(df_train_x, df_train_y)\n",
    "\n",
    "print(\"Accuracy on training set: {:.3f}\".format(gb_uncustomized.score(df_train_x, df_train_y)))\n",
    "print(\"Accuracy on test set: {:.3f}\".format(gb_uncustomized.score(df_test_x, df_test_y)))"
   ]
  },
  {
   "cell_type": "code",
   "execution_count": 231,
   "metadata": {},
   "outputs": [
    {
     "name": "stdout",
     "output_type": "stream",
     "text": [
      "Best Parameters:  {'max_depth': 5, 'min_samples_leaf': 2, 'min_samples_split': 10}\n",
      "Best Score:  0.9971428571428571\n",
      "Test Accuracy:  0.9966666666666667\n"
     ]
    }
   ],
   "source": [
    "dt = GradientBoostingClassifier()\n",
    "\n",
    "# 탐색할 매개변수 그리드 설정\n",
    "param_grid = {\n",
    "    \"max_depth\": range(2, 20),\n",
    "    \"min_samples_split\": range(2, 40, 2),\n",
    "    \"min_samples_leaf\": range(2, 20, 2)\n",
    "}\n",
    "\n",
    "# GridSearchCV를 사용하여 최적 매개변수 탐색\n",
    "grid_search = GridSearchCV(dt, param_grid,scoring = \"accuracy\", n_jobs = -1)\n",
    "grid_search.fit(df_train_x, df_train_y)\n",
    "\n",
    "# 최적 매개변수 및 모델 출력\n",
    "print(\"Best Parameters: \", grid_search.best_params_)\n",
    "print(\"Best Score: \", grid_search.best_score_)\n",
    "best_model = grid_search.best_estimator_\n",
    "\n",
    "accuracy = best_model.score(df_test_x, df_test_y)\n",
    "print(\"Test Accuracy: \", accuracy)"
   ]
  },
  {
   "cell_type": "code",
   "execution_count": 232,
   "metadata": {},
   "outputs": [
    {
     "data": {
      "text/html": [
       "<style>#sk-container-id-3 {color: black;background-color: white;}#sk-container-id-3 pre{padding: 0;}#sk-container-id-3 div.sk-toggleable {background-color: white;}#sk-container-id-3 label.sk-toggleable__label {cursor: pointer;display: block;width: 100%;margin-bottom: 0;padding: 0.3em;box-sizing: border-box;text-align: center;}#sk-container-id-3 label.sk-toggleable__label-arrow:before {content: \"▸\";float: left;margin-right: 0.25em;color: #696969;}#sk-container-id-3 label.sk-toggleable__label-arrow:hover:before {color: black;}#sk-container-id-3 div.sk-estimator:hover label.sk-toggleable__label-arrow:before {color: black;}#sk-container-id-3 div.sk-toggleable__content {max-height: 0;max-width: 0;overflow: hidden;text-align: left;background-color: #f0f8ff;}#sk-container-id-3 div.sk-toggleable__content pre {margin: 0.2em;color: black;border-radius: 0.25em;background-color: #f0f8ff;}#sk-container-id-3 input.sk-toggleable__control:checked~div.sk-toggleable__content {max-height: 200px;max-width: 100%;overflow: auto;}#sk-container-id-3 input.sk-toggleable__control:checked~label.sk-toggleable__label-arrow:before {content: \"▾\";}#sk-container-id-3 div.sk-estimator input.sk-toggleable__control:checked~label.sk-toggleable__label {background-color: #d4ebff;}#sk-container-id-3 div.sk-label input.sk-toggleable__control:checked~label.sk-toggleable__label {background-color: #d4ebff;}#sk-container-id-3 input.sk-hidden--visually {border: 0;clip: rect(1px 1px 1px 1px);clip: rect(1px, 1px, 1px, 1px);height: 1px;margin: -1px;overflow: hidden;padding: 0;position: absolute;width: 1px;}#sk-container-id-3 div.sk-estimator {font-family: monospace;background-color: #f0f8ff;border: 1px dotted black;border-radius: 0.25em;box-sizing: border-box;margin-bottom: 0.5em;}#sk-container-id-3 div.sk-estimator:hover {background-color: #d4ebff;}#sk-container-id-3 div.sk-parallel-item::after {content: \"\";width: 100%;border-bottom: 1px solid gray;flex-grow: 1;}#sk-container-id-3 div.sk-label:hover label.sk-toggleable__label {background-color: #d4ebff;}#sk-container-id-3 div.sk-serial::before {content: \"\";position: absolute;border-left: 1px solid gray;box-sizing: border-box;top: 0;bottom: 0;left: 50%;z-index: 0;}#sk-container-id-3 div.sk-serial {display: flex;flex-direction: column;align-items: center;background-color: white;padding-right: 0.2em;padding-left: 0.2em;position: relative;}#sk-container-id-3 div.sk-item {position: relative;z-index: 1;}#sk-container-id-3 div.sk-parallel {display: flex;align-items: stretch;justify-content: center;background-color: white;position: relative;}#sk-container-id-3 div.sk-item::before, #sk-container-id-3 div.sk-parallel-item::before {content: \"\";position: absolute;border-left: 1px solid gray;box-sizing: border-box;top: 0;bottom: 0;left: 50%;z-index: -1;}#sk-container-id-3 div.sk-parallel-item {display: flex;flex-direction: column;z-index: 1;position: relative;background-color: white;}#sk-container-id-3 div.sk-parallel-item:first-child::after {align-self: flex-end;width: 50%;}#sk-container-id-3 div.sk-parallel-item:last-child::after {align-self: flex-start;width: 50%;}#sk-container-id-3 div.sk-parallel-item:only-child::after {width: 0;}#sk-container-id-3 div.sk-dashed-wrapped {border: 1px dashed gray;margin: 0 0.4em 0.5em 0.4em;box-sizing: border-box;padding-bottom: 0.4em;background-color: white;}#sk-container-id-3 div.sk-label label {font-family: monospace;font-weight: bold;display: inline-block;line-height: 1.2em;}#sk-container-id-3 div.sk-label-container {text-align: center;}#sk-container-id-3 div.sk-container {/* jupyter's `normalize.less` sets `[hidden] { display: none; }` but bootstrap.min.css set `[hidden] { display: none !important; }` so we also need the `!important` here to be able to override the default hidden behavior on the sphinx rendered scikit-learn.org. See: https://github.com/scikit-learn/scikit-learn/issues/21755 */display: inline-block !important;position: relative;}#sk-container-id-3 div.sk-text-repr-fallback {display: none;}</style><div id=\"sk-container-id-3\" class=\"sk-top-container\"><div class=\"sk-text-repr-fallback\"><pre>GradientBoostingClassifier(max_depth=5, min_samples_leaf=2,\n",
       "                           min_samples_split=10, random_state=1234)</pre><b>In a Jupyter environment, please rerun this cell to show the HTML representation or trust the notebook. <br />On GitHub, the HTML representation is unable to render, please try loading this page with nbviewer.org.</b></div><div class=\"sk-container\" hidden><div class=\"sk-item\"><div class=\"sk-estimator sk-toggleable\"><input class=\"sk-toggleable__control sk-hidden--visually\" id=\"sk-estimator-id-3\" type=\"checkbox\" checked><label for=\"sk-estimator-id-3\" class=\"sk-toggleable__label sk-toggleable__label-arrow\">GradientBoostingClassifier</label><div class=\"sk-toggleable__content\"><pre>GradientBoostingClassifier(max_depth=5, min_samples_leaf=2,\n",
       "                           min_samples_split=10, random_state=1234)</pre></div></div></div></div></div>"
      ],
      "text/plain": [
       "GradientBoostingClassifier(max_depth=5, min_samples_leaf=2,\n",
       "                           min_samples_split=10, random_state=1234)"
      ]
     },
     "execution_count": 232,
     "metadata": {},
     "output_type": "execute_result"
    }
   ],
   "source": [
    "gb_final = GradientBoostingClassifier(min_samples_leaf = 2,min_samples_split = 10,max_depth = 5, random_state=1234,)\n",
    "gb_final.fit(df_train_x, df_train_y)"
   ]
  },
  {
   "cell_type": "code",
   "execution_count": 233,
   "metadata": {},
   "outputs": [
    {
     "name": "stdout",
     "output_type": "stream",
     "text": [
      "Accuracy on training set: 1.000\n",
      "Accuracy on test set: 0.997\n"
     ]
    }
   ],
   "source": [
    "print(\"Accuracy on training set: {:.3f}\".format(gb_final.score(df_train_x, df_train_y)))\n",
    "print(\"Accuracy on test set: {:.3f}\".format(gb_final.score(df_test_x, df_test_y)))"
   ]
  },
  {
   "cell_type": "code",
   "execution_count": 242,
   "metadata": {},
   "outputs": [
    {
     "name": "stdout",
     "output_type": "stream",
     "text": [
      "Accuray: 0.997\n",
      "\n",
      "Confusion matrix:\n",
      "[[206   0]\n",
      " [  1  93]]\n"
     ]
    }
   ],
   "source": [
    "gb_pred = gb_final.predict(df_test_x)\n",
    "\n",
    "print(\"Accuray: {0:.3f}\\n\".format(gb_final.score(df_test_x, df_test_y)))\n",
    "print(\"Confusion matrix:\\n{}\".format(confusion_matrix(df_test_y, gb_pred)))"
   ]
  },
  {
   "cell_type": "code",
   "execution_count": 235,
   "metadata": {},
   "outputs": [
    {
     "data": {
      "text/html": [
       "<div>\n",
       "<style scoped>\n",
       "    .dataframe tbody tr th:only-of-type {\n",
       "        vertical-align: middle;\n",
       "    }\n",
       "\n",
       "    .dataframe tbody tr th {\n",
       "        vertical-align: top;\n",
       "    }\n",
       "\n",
       "    .dataframe thead th {\n",
       "        text-align: right;\n",
       "    }\n",
       "</style>\n",
       "<table border=\"1\" class=\"dataframe\">\n",
       "  <thead>\n",
       "    <tr style=\"text-align: right;\">\n",
       "      <th></th>\n",
       "      <th>Feature</th>\n",
       "      <th>importance</th>\n",
       "    </tr>\n",
       "  </thead>\n",
       "  <tbody>\n",
       "    <tr>\n",
       "      <th>9</th>\n",
       "      <td>rolling_temp</td>\n",
       "      <td>0.554</td>\n",
       "    </tr>\n",
       "    <tr>\n",
       "      <th>86</th>\n",
       "      <td>hsb_미적용</td>\n",
       "      <td>0.155</td>\n",
       "    </tr>\n",
       "    <tr>\n",
       "      <th>5</th>\n",
       "      <td>fur_soak_temp</td>\n",
       "      <td>0.146</td>\n",
       "    </tr>\n",
       "    <tr>\n",
       "      <th>10</th>\n",
       "      <td>descaling_count</td>\n",
       "      <td>0.145</td>\n",
       "    </tr>\n",
       "    <tr>\n",
       "      <th>0</th>\n",
       "      <td>pt_thick</td>\n",
       "      <td>0.000</td>\n",
       "    </tr>\n",
       "    <tr>\n",
       "      <th>...</th>\n",
       "      <td>...</td>\n",
       "      <td>...</td>\n",
       "    </tr>\n",
       "    <tr>\n",
       "      <th>32</th>\n",
       "      <td>spec_long_GL-A32</td>\n",
       "      <td>0.000</td>\n",
       "    </tr>\n",
       "    <tr>\n",
       "      <th>31</th>\n",
       "      <td>spec_long_GL-A</td>\n",
       "      <td>0.000</td>\n",
       "    </tr>\n",
       "    <tr>\n",
       "      <th>30</th>\n",
       "      <td>spec_long_COMMON</td>\n",
       "      <td>0.000</td>\n",
       "    </tr>\n",
       "    <tr>\n",
       "      <th>29</th>\n",
       "      <td>spec_long_CCS-B</td>\n",
       "      <td>0.000</td>\n",
       "    </tr>\n",
       "    <tr>\n",
       "      <th>98</th>\n",
       "      <td>work_group_4조</td>\n",
       "      <td>0.000</td>\n",
       "    </tr>\n",
       "  </tbody>\n",
       "</table>\n",
       "<p>99 rows × 2 columns</p>\n",
       "</div>"
      ],
      "text/plain": [
       "             Feature  importance\n",
       "9       rolling_temp       0.554\n",
       "86           hsb_미적용       0.155\n",
       "5      fur_soak_temp       0.146\n",
       "10   descaling_count       0.145\n",
       "0           pt_thick       0.000\n",
       "..               ...         ...\n",
       "32  spec_long_GL-A32       0.000\n",
       "31    spec_long_GL-A       0.000\n",
       "30  spec_long_COMMON       0.000\n",
       "29   spec_long_CCS-B       0.000\n",
       "98     work_group_4조       0.000\n",
       "\n",
       "[99 rows x 2 columns]"
      ]
     },
     "execution_count": 235,
     "metadata": {},
     "output_type": "execute_result"
    }
   ],
   "source": [
    "v_feature_name = df_train_x.columns\n",
    "\n",
    "\n",
    "df_importance = pd.DataFrame()\n",
    "df_importance[\"Feature\"] = v_feature_name\n",
    "df_importance[\"importance\"] = tree_final.feature_importances_\n",
    "\n",
    "df_importance.sort_values(\"importance\", ascending=False, inplace = True)\n",
    "df_importance.round(3)"
   ]
  },
  {
   "attachments": {},
   "cell_type": "markdown",
   "metadata": {},
   "source": [
    "## 5. 정확도 및 Confusion Matrix"
   ]
  },
  {
   "cell_type": "code",
   "execution_count": 243,
   "metadata": {},
   "outputs": [
    {
     "name": "stdout",
     "output_type": "stream",
     "text": [
      "Accuracy:0.993\n",
      "\n",
      "Confusion Matrix: \n",
      "[[206   0]\n",
      " [  2  92]]\n"
     ]
    }
   ],
   "source": [
    "# 의사결정나무\n",
    "print(\"Accuracy:{0:.3f}\\n\".format(tree_final.score(df_test_x, df_test_y)))\n",
    "print(\"Confusion Matrix: \\n{}\".format(confusion_matrix(df_test_y, dt_pred)))"
   ]
  },
  {
   "cell_type": "code",
   "execution_count": 244,
   "metadata": {},
   "outputs": [
    {
     "name": "stdout",
     "output_type": "stream",
     "text": [
      "Accuracy on test set: 0.960\n",
      "Comfusion Matrix: \n",
      "[[206   0]\n",
      " [ 12  82]]\n"
     ]
    }
   ],
   "source": [
    "# 랜덤포레스트\n",
    "\n",
    "print(\"Accuracy on test set: {:.3f}\".format(rf_final.score(df_test_x, df_test_y)))\n",
    "print(\"Comfusion Matrix: \\n{}\".format(confusion_matrix(df_test_y, rf_pred)))"
   ]
  },
  {
   "cell_type": "code",
   "execution_count": 245,
   "metadata": {},
   "outputs": [
    {
     "name": "stdout",
     "output_type": "stream",
     "text": [
      "Accuracy on test set: 0.997\n",
      "Comfusion Matrix: \n",
      "[[206   0]\n",
      " [  1  93]]\n"
     ]
    }
   ],
   "source": [
    "# 그레디언트 부스팅\n",
    "print(\"Accuracy on test set: {:.3f}\".format(gb_final.score(df_test_x, df_test_y)))\n",
    "print(\"Comfusion Matrix: \\n{}\".format(confusion_matrix(df_test_y, gb_pred)))"
   ]
  },
  {
   "attachments": {},
   "cell_type": "markdown",
   "metadata": {},
   "source": [
    "- Confusion Matrix나 정확도 면에서 그레디언트 부스팅이 우수하므로 이 모델을 사용하는 것이 적합하다."
   ]
  }
 ],
 "metadata": {
  "kernelspec": {
   "display_name": "Python 3",
   "language": "python",
   "name": "python3"
  },
  "language_info": {
   "codemirror_mode": {
    "name": "ipython",
    "version": 3
   },
   "file_extension": ".py",
   "mimetype": "text/x-python",
   "name": "python",
   "nbconvert_exporter": "python",
   "pygments_lexer": "ipython3",
   "version": "3.10.6"
  }
 },
 "nbformat": 4,
 "nbformat_minor": 4
}
